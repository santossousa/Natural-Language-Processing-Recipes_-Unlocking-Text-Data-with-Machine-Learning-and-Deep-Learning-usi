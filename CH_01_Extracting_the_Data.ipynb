{
  "nbformat": 4,
  "nbformat_minor": 0,
  "metadata": {
    "colab": {
      "name": "CH_01_Extracting_the_Data.ipynb",
      "provenance": [],
      "collapsed_sections": [
        "RYRkRtpE5br9",
        "LA9RYvM5DWKB"
      ],
      "authorship_tag": "ABX9TyMvT0fXuUc6bcqnbcLhAGjT",
      "include_colab_link": true
    },
    "kernelspec": {
      "name": "python3",
      "display_name": "Python 3"
    },
    "language_info": {
      "name": "python"
    },
    "widgets": {
      "application/vnd.jupyter.widget-state+json": {
        "3ad82a6f7cef4b69b9539ee01441ba51": {
          "model_module": "@jupyter-widgets/controls",
          "model_name": "FloatProgressModel",
          "model_module_version": "1.5.0",
          "state": {
            "_dom_classes": [],
            "_model_module": "@jupyter-widgets/controls",
            "_model_module_version": "1.5.0",
            "_model_name": "FloatProgressModel",
            "_view_count": null,
            "_view_module": "@jupyter-widgets/controls",
            "_view_module_version": "1.5.0",
            "_view_name": "ProgressView",
            "bar_style": "",
            "description": "",
            "description_tooltip": null,
            "layout": "IPY_MODEL_44cd98cb3019472cba3f56d5423fd1c5",
            "max": 250,
            "min": 0,
            "orientation": "horizontal",
            "style": "IPY_MODEL_f6a9ef39b1ea4746bd660e5b378b7251",
            "value": 250
          }
        },
        "44cd98cb3019472cba3f56d5423fd1c5": {
          "model_module": "@jupyter-widgets/base",
          "model_name": "LayoutModel",
          "model_module_version": "1.2.0",
          "state": {
            "_model_module": "@jupyter-widgets/base",
            "_model_module_version": "1.2.0",
            "_model_name": "LayoutModel",
            "_view_count": null,
            "_view_module": "@jupyter-widgets/base",
            "_view_module_version": "1.2.0",
            "_view_name": "LayoutView",
            "align_content": null,
            "align_items": null,
            "align_self": null,
            "border": null,
            "bottom": null,
            "display": null,
            "flex": null,
            "flex_flow": null,
            "grid_area": null,
            "grid_auto_columns": null,
            "grid_auto_flow": null,
            "grid_auto_rows": null,
            "grid_column": null,
            "grid_gap": null,
            "grid_row": null,
            "grid_template_areas": null,
            "grid_template_columns": null,
            "grid_template_rows": null,
            "height": null,
            "justify_content": null,
            "justify_items": null,
            "left": null,
            "margin": null,
            "max_height": null,
            "max_width": null,
            "min_height": null,
            "min_width": null,
            "object_fit": null,
            "object_position": null,
            "order": null,
            "overflow": null,
            "overflow_x": null,
            "overflow_y": null,
            "padding": null,
            "right": null,
            "top": null,
            "visibility": null,
            "width": null
          }
        },
        "f6a9ef39b1ea4746bd660e5b378b7251": {
          "model_module": "@jupyter-widgets/controls",
          "model_name": "ProgressStyleModel",
          "model_module_version": "1.5.0",
          "state": {
            "_model_module": "@jupyter-widgets/controls",
            "_model_module_version": "1.5.0",
            "_model_name": "ProgressStyleModel",
            "_view_count": null,
            "_view_module": "@jupyter-widgets/base",
            "_view_module_version": "1.2.0",
            "_view_name": "StyleView",
            "bar_color": null,
            "description_width": ""
          }
        }
      }
    }
  },
  "cells": [
    {
      "cell_type": "markdown",
      "metadata": {
        "id": "view-in-github",
        "colab_type": "text"
      },
      "source": [
        "<a href=\"https://colab.research.google.com/github/santossousa/Natural-Language-Processing-Recipes_-Unlocking-Text-Data-with-Machine-Learning-and-Deep-Learning-usi/blob/main/CH_01_Extracting_the_Data.ipynb\" target=\"_parent\"><img src=\"https://colab.research.google.com/assets/colab-badge.svg\" alt=\"Open In Colab\"/></a>"
      ]
    },
    {
      "cell_type": "markdown",
      "source": [
        "#\u00071-1. Collecting Data\n"
      ],
      "metadata": {
        "id": "3H1AHdi5sgCJ"
      }
    },
    {
      "cell_type": "code",
      "execution_count": null,
      "metadata": {
        "colab": {
          "base_uri": "https://localhost:8080/"
        },
        "id": "91PYs_MmsDuK",
        "outputId": "c3fe1410-8110-4fcd-96ac-3b84fbfa21eb"
      },
      "outputs": [
        {
          "output_type": "stream",
          "name": "stdout",
          "text": [
            "Looking in indexes: https://pypi.org/simple, https://us-python.pkg.dev/colab-wheels/public/simple/\n",
            "Requirement already satisfied: tweepy in /usr/local/lib/python3.7/dist-packages (3.10.0)\n",
            "Requirement already satisfied: requests[socks]>=2.11.1 in /usr/local/lib/python3.7/dist-packages (from tweepy) (2.23.0)\n",
            "Requirement already satisfied: six>=1.10.0 in /usr/local/lib/python3.7/dist-packages (from tweepy) (1.15.0)\n",
            "Requirement already satisfied: requests-oauthlib>=0.7.0 in /usr/local/lib/python3.7/dist-packages (from tweepy) (1.3.1)\n",
            "Requirement already satisfied: oauthlib>=3.0.0 in /usr/local/lib/python3.7/dist-packages (from requests-oauthlib>=0.7.0->tweepy) (3.2.0)\n",
            "Requirement already satisfied: certifi>=2017.4.17 in /usr/local/lib/python3.7/dist-packages (from requests[socks]>=2.11.1->tweepy) (2022.6.15)\n",
            "Requirement already satisfied: urllib3!=1.25.0,!=1.25.1,<1.26,>=1.21.1 in /usr/local/lib/python3.7/dist-packages (from requests[socks]>=2.11.1->tweepy) (1.24.3)\n",
            "Requirement already satisfied: idna<3,>=2.5 in /usr/local/lib/python3.7/dist-packages (from requests[socks]>=2.11.1->tweepy) (2.10)\n",
            "Requirement already satisfied: chardet<4,>=3.0.2 in /usr/local/lib/python3.7/dist-packages (from requests[socks]>=2.11.1->tweepy) (3.0.4)\n",
            "Requirement already satisfied: PySocks!=1.5.7,>=1.5.6 in /usr/local/lib/python3.7/dist-packages (from requests[socks]>=2.11.1->tweepy) (1.7.1)\n"
          ]
        }
      ],
      "source": [
        "!pip install tweepy"
      ]
    },
    {
      "cell_type": "code",
      "source": [
        "import numpy as np\n",
        "import tweepy\n",
        "import json\n",
        "import pandas as pd\n",
        "from tweepy import OAuthHandler"
      ],
      "metadata": {
        "id": "AnErSLDUsW7j"
      },
      "execution_count": null,
      "outputs": []
    },
    {
      "cell_type": "code",
      "source": [
        "consumer_key = \"2PM9FdmZmpu9OpSV9TkW8MNye\"\n",
        "consumer_secret = \"PCv9Mk5rbAjS3mLbahiE5krGhlDUWS7T11626RZLRviIa6ukTW\"\n",
        "access_token = \"1212540458083049472-MpzsTXUS9Nk3yDYj9m08XnZBrKQvrT\"\n",
        "access_token_secret = \"VY3pTE15xKXQr9H7yrDeAcp5mWQHwOWkl8j9nQhj2Bvux\""
      ],
      "metadata": {
        "id": "fGH7RKJXsAqm"
      },
      "execution_count": null,
      "outputs": []
    },
    {
      "cell_type": "code",
      "source": [
        "auth = tweepy.OAuthHandler(consumer_key, consumer_secret)\n",
        "auth.set_access_token(access_token, access_token_secret)\n",
        "api = tweepy.API(auth)"
      ],
      "metadata": {
        "id": "ACToNXi4tJkJ"
      },
      "execution_count": null,
      "outputs": []
    },
    {
      "cell_type": "code",
      "source": [
        "query =\"fake news\""
      ],
      "metadata": {
        "id": "8QHwWBY_tM66"
      },
      "execution_count": null,
      "outputs": []
    },
    {
      "cell_type": "code",
      "source": [
        "Tweets = api.search(query, count = 10,lang='en',\n",
        "exclude='retweets',tweet_mode='extended')"
      ],
      "metadata": {
        "id": "n64r0MLctQgN"
      },
      "execution_count": null,
      "outputs": []
    },
    {
      "cell_type": "markdown",
      "source": [
        "#1-2. Collecting Data from PDFs"
      ],
      "metadata": {
        "id": "g27CuCv_4c_Y"
      }
    },
    {
      "cell_type": "code",
      "source": [
        "!pip install PyPDF2"
      ],
      "metadata": {
        "colab": {
          "base_uri": "https://localhost:8080/"
        },
        "id": "7lxlK73F4UJM",
        "outputId": "76a9f001-f493-4e2b-8bbe-9fe5e0b1e81d"
      },
      "execution_count": null,
      "outputs": [
        {
          "output_type": "stream",
          "name": "stdout",
          "text": [
            "Looking in indexes: https://pypi.org/simple, https://us-python.pkg.dev/colab-wheels/public/simple/\n",
            "Collecting PyPDF2\n",
            "  Downloading PyPDF2-2.4.2-py3-none-any.whl (199 kB)\n",
            "\u001b[K     |████████████████████████████████| 199 kB 6.9 MB/s \n",
            "\u001b[?25hRequirement already satisfied: typing-extensions in /usr/local/lib/python3.7/dist-packages (from PyPDF2) (4.1.1)\n",
            "Installing collected packages: PyPDF2\n",
            "Successfully installed PyPDF2-2.4.2\n"
          ]
        }
      ]
    },
    {
      "cell_type": "code",
      "source": [
        "import PyPDF2\n",
        "from PyPDF2 import PdfFileReader"
      ],
      "metadata": {
        "id": "WZ5dvokq4pGe"
      },
      "execution_count": null,
      "outputs": []
    },
    {
      "cell_type": "code",
      "source": [
        "pdf = open(\"/content/62A6BF21.pdf\",\"rb\")"
      ],
      "metadata": {
        "id": "QC_pr_XN4udC"
      },
      "execution_count": null,
      "outputs": []
    },
    {
      "cell_type": "code",
      "source": [
        "pdf_reader = PyPDF2.PdfFileReader(pdf)"
      ],
      "metadata": {
        "id": "qNns2rnl5FPM"
      },
      "execution_count": null,
      "outputs": []
    },
    {
      "cell_type": "code",
      "source": [
        "print(pdf_reader.numPages)"
      ],
      "metadata": {
        "colab": {
          "base_uri": "https://localhost:8080/"
        },
        "id": "TsNBgfHi5IDc",
        "outputId": "1d75be9d-33c1-4ead-e4e4-f6d57b72dd8e"
      },
      "execution_count": null,
      "outputs": [
        {
          "output_type": "stream",
          "name": "stdout",
          "text": [
            "1\n"
          ]
        }
      ]
    },
    {
      "cell_type": "code",
      "source": [
        "page = pdf_reader.getPage(0)"
      ],
      "metadata": {
        "id": "vWafFYIu5KSW"
      },
      "execution_count": null,
      "outputs": []
    },
    {
      "cell_type": "code",
      "source": [
        "print(page.extractText())"
      ],
      "metadata": {
        "colab": {
          "base_uri": "https://localhost:8080/"
        },
        "id": "tZg2goqZ5NTU",
        "outputId": "afa53679-eade-435c-9d50-b1f946d110da"
      },
      "execution_count": null,
      "outputs": [
        {
          "output_type": "stream",
          "name": "stdout",
          "text": [
            " 62A6BF21\n",
            "\n",
            "\n",
            "\n",
            "Certificamos que\n",
            "\n",
            "\n",
            "\n",
            "\n",
            "\n",
            "Fábio J D S Sousa\n",
            "\n",
            "\n",
            "\n",
            "\n",
            "\n",
            "em 02 de Outubro de 2021, concluiu o curso\n",
            "\n",
            "\n",
            "\n",
            "\n",
            "\n",
            "\n",
            "Boas-vindas ao Bootcamp Cognizant Cloud Data\n",
            "\n",
            "Engineer\n",
            "\n",
            "\n",
            "\n",
            "\n",
            "\n",
            "com carga horária de 1 hora.\n",
            "\n",
            "\n",
            "\n"
          ]
        }
      ]
    },
    {
      "cell_type": "code",
      "source": [
        "pdf.close()"
      ],
      "metadata": {
        "id": "pRyQFH305Uvu"
      },
      "execution_count": null,
      "outputs": []
    },
    {
      "cell_type": "markdown",
      "source": [
        "#1-3. Collecting Data from Word Files"
      ],
      "metadata": {
        "id": "RYRkRtpE5br9"
      }
    },
    {
      "cell_type": "code",
      "source": [
        "!pip install python-docx"
      ],
      "metadata": {
        "colab": {
          "base_uri": "https://localhost:8080/"
        },
        "id": "eXAZDAHo5bSJ",
        "outputId": "9fa72316-61ef-4d1d-d7cf-e995fd17e3f3"
      },
      "execution_count": null,
      "outputs": [
        {
          "output_type": "stream",
          "name": "stdout",
          "text": [
            "Looking in indexes: https://pypi.org/simple, https://us-python.pkg.dev/colab-wheels/public/simple/\n",
            "Collecting python-docx\n",
            "  Downloading python-docx-0.8.11.tar.gz (5.6 MB)\n",
            "\u001b[K     |████████████████████████████████| 5.6 MB 6.9 MB/s \n",
            "\u001b[?25hRequirement already satisfied: lxml>=2.3.2 in /usr/local/lib/python3.7/dist-packages (from python-docx) (4.2.6)\n",
            "Building wheels for collected packages: python-docx\n",
            "  Building wheel for python-docx (setup.py) ... \u001b[?25l\u001b[?25hdone\n",
            "  Created wheel for python-docx: filename=python_docx-0.8.11-py3-none-any.whl size=184507 sha256=59cf31b0812dfa43eb532aa03d4c0995bfb895410ae2ae6e9b67090a37c0a173\n",
            "  Stored in directory: /root/.cache/pip/wheels/f6/6f/b9/d798122a8b55b74ad30b5f52b01482169b445fbb84a11797a6\n",
            "Successfully built python-docx\n",
            "Installing collected packages: python-docx\n",
            "Successfully installed python-docx-0.8.11\n"
          ]
        }
      ]
    },
    {
      "cell_type": "code",
      "source": [
        "from docx import Document"
      ],
      "metadata": {
        "id": "Cd4d6Wo75nsT"
      },
      "execution_count": null,
      "outputs": []
    },
    {
      "cell_type": "code",
      "source": [
        "doc = open(\"/content/documento.docx\",\"rb\")"
      ],
      "metadata": {
        "id": "xb7JL83YAJJ0"
      },
      "execution_count": null,
      "outputs": []
    },
    {
      "cell_type": "code",
      "source": [
        "document = Document(doc)"
      ],
      "metadata": {
        "id": "IDpvbFZhAhUG"
      },
      "execution_count": null,
      "outputs": []
    },
    {
      "cell_type": "code",
      "source": [
        "docu=\"\"\n",
        "for para in document.paragraphs:\n",
        "       docu += para.text"
      ],
      "metadata": {
        "id": "29DdC695Cv-H"
      },
      "execution_count": null,
      "outputs": []
    },
    {
      "cell_type": "code",
      "source": [
        "print(docu)"
      ],
      "metadata": {
        "colab": {
          "base_uri": "https://localhost:8080/"
        },
        "id": "JBBv_ECTCzp-",
        "outputId": "29377703-c1ab-46d0-f33b-9ea7af5eb899"
      },
      "execution_count": null,
      "outputs": [
        {
          "output_type": "stream",
          "name": "stdout",
          "text": [
            "Documento vazio!\n"
          ]
        }
      ]
    },
    {
      "cell_type": "markdown",
      "source": [
        "#1-4. Collecting Data from JSON"
      ],
      "metadata": {
        "id": "LA9RYvM5DWKB"
      }
    },
    {
      "cell_type": "code",
      "source": [
        "import requests\n",
        "import json"
      ],
      "metadata": {
        "id": "_wnmMzYWDiWr"
      },
      "execution_count": null,
      "outputs": []
    },
    {
      "cell_type": "code",
      "source": [
        "r = requests.get(\"https://quotes.rest/qod.json\")\n",
        "res = r.json()\n",
        "print(json.dumps(res, indent = 4))"
      ],
      "metadata": {
        "colab": {
          "base_uri": "https://localhost:8080/"
        },
        "id": "g-GmDC76Dkzp",
        "outputId": "7acad7e0-a34f-4771-8334-034ccebbe457"
      },
      "execution_count": null,
      "outputs": [
        {
          "output_type": "stream",
          "name": "stdout",
          "text": [
            "{\n",
            "    \"success\": {\n",
            "        \"total\": 1\n",
            "    },\n",
            "    \"contents\": {\n",
            "        \"quotes\": [\n",
            "            {\n",
            "                \"quote\": \"Ignition (n): The motivational process that occurs when your identity becomes linked to a long-term vision of your future. Triggers significant amounts of unconscious energy; usually marked by the realization: That is who I want to be.\",\n",
            "                \"length\": \"235\",\n",
            "                \"author\": \"\\u200aDaniel Coyle\",\n",
            "                \"tags\": [\n",
            "                    \"energy\",\n",
            "                    \"inspire\",\n",
            "                    \"motivation\"\n",
            "                ],\n",
            "                \"category\": \"inspire\",\n",
            "                \"language\": \"en\",\n",
            "                \"date\": \"2022-07-07\",\n",
            "                \"permalink\": \"https://theysaidso.com/quote/daniel-coyle-ignition-n-the-motivational-process-that-occurs-when-your-identity\",\n",
            "                \"id\": \"c_TJ3uNqflXI53XfKruMcweF\",\n",
            "                \"background\": \"https://theysaidso.com/img/qod/qod-inspire.jpg\",\n",
            "                \"title\": \"Inspiring Quote of the day\"\n",
            "            }\n",
            "        ]\n",
            "    },\n",
            "    \"baseurl\": \"https://theysaidso.com\",\n",
            "    \"copyright\": {\n",
            "        \"year\": 2024,\n",
            "        \"url\": \"https://theysaidso.com\"\n",
            "    }\n",
            "}\n"
          ]
        }
      ]
    },
    {
      "cell_type": "code",
      "source": [
        "q = res['contents']['quotes'][0]\n",
        "q"
      ],
      "metadata": {
        "colab": {
          "base_uri": "https://localhost:8080/"
        },
        "id": "fVYKpWfoD6mb",
        "outputId": "230dcb40-7be7-4228-9d5a-5d9e028fe026"
      },
      "execution_count": null,
      "outputs": [
        {
          "output_type": "execute_result",
          "data": {
            "text/plain": [
              "{'author': '\\u200aDaniel Coyle',\n",
              " 'background': 'https://theysaidso.com/img/qod/qod-inspire.jpg',\n",
              " 'category': 'inspire',\n",
              " 'date': '2022-07-07',\n",
              " 'id': 'c_TJ3uNqflXI53XfKruMcweF',\n",
              " 'language': 'en',\n",
              " 'length': '235',\n",
              " 'permalink': 'https://theysaidso.com/quote/daniel-coyle-ignition-n-the-motivational-process-that-occurs-when-your-identity',\n",
              " 'quote': 'Ignition (n): The motivational process that occurs when your identity becomes linked to a long-term vision of your future. Triggers significant amounts of unconscious energy; usually marked by the realization: That is who I want to be.',\n",
              " 'tags': ['energy', 'inspire', 'motivation'],\n",
              " 'title': 'Inspiring Quote of the day'}"
            ]
          },
          "metadata": {},
          "execution_count": 48
        }
      ]
    },
    {
      "cell_type": "code",
      "source": [
        "print(q['quote'], '\\n--', q['author'])"
      ],
      "metadata": {
        "colab": {
          "base_uri": "https://localhost:8080/"
        },
        "id": "7uz5vv72EAsM",
        "outputId": "becc2d29-94ee-4547-e1a4-72c9aaedd774"
      },
      "execution_count": null,
      "outputs": [
        {
          "output_type": "stream",
          "name": "stdout",
          "text": [
            "Ignition (n): The motivational process that occurs when your identity becomes linked to a long-term vision of your future. Triggers significant amounts of unconscious energy; usually marked by the realization: That is who I want to be. \n",
            "--  Daniel Coyle\n"
          ]
        }
      ]
    },
    {
      "cell_type": "markdown",
      "source": [
        "# 1-5. Collecting Data from HTML"
      ],
      "metadata": {
        "id": "XXMMRJNFEbDz"
      }
    },
    {
      "cell_type": "code",
      "source": [
        "!pip install bs4"
      ],
      "metadata": {
        "colab": {
          "base_uri": "https://localhost:8080/"
        },
        "id": "Rs-RUfKkEiDj",
        "outputId": "10659782-03b0-4cda-dc7f-40013b0ed19a"
      },
      "execution_count": null,
      "outputs": [
        {
          "output_type": "stream",
          "name": "stdout",
          "text": [
            "Looking in indexes: https://pypi.org/simple, https://us-python.pkg.dev/colab-wheels/public/simple/\n",
            "Requirement already satisfied: bs4 in /usr/local/lib/python3.7/dist-packages (0.0.1)\n",
            "Requirement already satisfied: beautifulsoup4 in /usr/local/lib/python3.7/dist-packages (from bs4) (4.6.3)\n"
          ]
        }
      ]
    },
    {
      "cell_type": "code",
      "source": [
        "import urllib.request as urllib2\n",
        "from bs4 import BeautifulSoup"
      ],
      "metadata": {
        "id": "wTl-PRLfEll2"
      },
      "execution_count": null,
      "outputs": []
    },
    {
      "cell_type": "code",
      "source": [
        "response = urllib2.urlopen('https://en.wikipedia.org/wiki/Natural_language_processing')\n",
        "html_doc = response.read()"
      ],
      "metadata": {
        "id": "jqlE071nEpFl"
      },
      "execution_count": null,
      "outputs": []
    },
    {
      "cell_type": "code",
      "source": [
        "soup = BeautifulSoup(html_doc, 'html.parser')\n",
        "# Formating the parsed html file\n",
        "strhtm = soup.prettify()\n",
        "# Print few lines\n",
        "print (strhtm[:1000])"
      ],
      "metadata": {
        "colab": {
          "base_uri": "https://localhost:8080/"
        },
        "id": "YRtO73aeEwex",
        "outputId": "20ef95c8-8361-4334-c117-202abcc00860"
      },
      "execution_count": null,
      "outputs": [
        {
          "output_type": "stream",
          "name": "stdout",
          "text": [
            "<!DOCTYPE html>\n",
            "<html class=\"client-nojs\" dir=\"ltr\" lang=\"en\">\n",
            " <head>\n",
            "  <meta charset=\"utf-8\"/>\n",
            "  <title>\n",
            "   Natural language processing - Wikipedia\n",
            "  </title>\n",
            "  <script>\n",
            "   document.documentElement.className=\"client-js\";RLCONF={\"wgBreakFrames\":false,\"wgSeparatorTransformTable\":[\"\",\"\"],\"wgDigitTransformTable\":[\"\",\"\"],\"wgDefaultDateFormat\":\"dmy\",\"wgMonthNames\":[\"\",\"January\",\"February\",\"March\",\"April\",\"May\",\"June\",\"July\",\"August\",\"September\",\"October\",\"November\",\"December\"],\"wgRequestId\":\"be40786e-790e-40be-aeea-6fe2af6ccacb\",\"wgCSPNonce\":false,\"wgCanonicalNamespace\":\"\",\"wgCanonicalSpecialPageName\":false,\"wgNamespaceNumber\":0,\"wgPageName\":\"Natural_language_processing\",\"wgTitle\":\"Natural language processing\",\"wgCurRevisionId\":1093868703,\"wgRevisionId\":1093868703,\"wgArticleId\":21652,\"wgIsArticle\":true,\"wgIsRedirect\":false,\"wgAction\":\"view\",\"wgUserName\":null,\"wgUserGroups\":[\"*\"],\"wgCategories\":[\"All accuracy disputes\",\"Accuracy disputes from December 2013\",\"CS1 maint: url-status\",\"CS1 main\n"
          ]
        }
      ]
    },
    {
      "cell_type": "code",
      "source": [
        "print(soup.title)\n",
        "print(soup.title.string)\n",
        "print(soup.a.string)\n",
        "print(soup.b.string)"
      ],
      "metadata": {
        "colab": {
          "base_uri": "https://localhost:8080/"
        },
        "id": "8NC1PPl_E0dt",
        "outputId": "8bb8c6d4-9936-4b9a-b935-e03a996789c8"
      },
      "execution_count": null,
      "outputs": [
        {
          "output_type": "stream",
          "name": "stdout",
          "text": [
            "<title>Natural language processing - Wikipedia</title>\n",
            "Natural language processing - Wikipedia\n",
            "None\n",
            "Natural language processing\n"
          ]
        }
      ]
    },
    {
      "cell_type": "code",
      "source": [
        "for x in soup.find_all('a'): print(x.string)"
      ],
      "metadata": {
        "colab": {
          "base_uri": "https://localhost:8080/"
        },
        "id": "DAStGN-ME5qP",
        "outputId": "87f4b6c6-b2c7-4433-fd67-675642ae31b8"
      },
      "execution_count": null,
      "outputs": [
        {
          "output_type": "stream",
          "name": "stdout",
          "text": [
            "None\n",
            "Jump to navigation\n",
            "Jump to search\n",
            "Language processing in the brain\n",
            "None\n",
            "None\n",
            "automated online assistant\n",
            "customer service\n",
            "[1]\n",
            "linguistics\n",
            "computer science\n",
            "artificial intelligence\n",
            "natural language\n",
            "speech recognition\n",
            "natural-language understanding\n",
            "natural-language generation\n",
            "None\n",
            "None\n",
            "None\n",
            "None\n",
            "None\n",
            "None\n",
            "None\n",
            "None\n",
            "None\n",
            "None\n",
            "None\n",
            "None\n",
            "None\n",
            "None\n",
            "None\n",
            "None\n",
            "None\n",
            "None\n",
            "None\n",
            "None\n",
            "None\n",
            "edit\n",
            "History of natural language processing\n",
            "Alan Turing\n",
            "Computing Machinery and Intelligence\n",
            "Turing test\n",
            "edit\n",
            "John Searle\n",
            "Chinese room\n",
            "Georgetown experiment\n",
            "automatic translation\n",
            "[2]\n",
            "ALPAC report\n",
            "statistical machine translation\n",
            "SHRDLU\n",
            "blocks worlds\n",
            "ELIZA\n",
            "Rogerian psychotherapist\n",
            "Joseph Weizenbaum\n",
            "ontologies\n",
            "chatterbots\n",
            "PARRY\n",
            "HPSG\n",
            "generative grammar\n",
            "[3]\n",
            "Lesk algorithm\n",
            "[4]\n",
            "Rhetorical Structure Theory\n",
            "Racter\n",
            "Jabberwacky\n",
            "[5]\n",
            "edit\n",
            "machine learning\n",
            "Moore's law\n",
            "Chomskyan\n",
            "transformational grammar\n",
            "corpus linguistics\n",
            "[6]\n",
            "machine translation\n",
            "textual corpora\n",
            "Parliament of Canada\n",
            "European Union\n",
            "unsupervised\n",
            "semi-supervised learning\n",
            "supervised learning\n",
            "World Wide Web\n",
            "time complexity\n",
            "edit\n",
            "representation learning\n",
            "deep neural network\n",
            "[7]\n",
            "[8]\n",
            "language modeling\n",
            "[9]\n",
            "[10]\n",
            "[11]\n",
            "in medicine and healthcare\n",
            "electronic health records\n",
            "[12]\n",
            "edit\n",
            "[13]\n",
            "[14]\n",
            "stemming\n",
            "machine-learning\n",
            "Apertium\n",
            "tokenization\n",
            "knowledge extraction\n",
            "edit\n",
            "[15]\n",
            "[16]\n",
            "statistical inference\n",
            "corpora\n",
            "statistical models\n",
            "probabilistic\n",
            "real-valued\n",
            "embeddings\n",
            "[17]\n",
            "[18]\n",
            "decision trees\n",
            "part-of-speech tagging\n",
            "hidden Markov models\n",
            "statistical models\n",
            "probabilistic\n",
            "real-valued\n",
            "cache language models\n",
            "speech recognition\n",
            "edit\n",
            "Artificial neural network\n",
            "[19]\n",
            "neural networks\n",
            "word embeddings\n",
            "neural machine translation\n",
            "sequence-to-sequence\n",
            "statistical machine translation\n",
            "edit\n",
            "edit\n",
            "Optical character recognition\n",
            "Speech recognition\n",
            "text to speech\n",
            "AI-complete\n",
            "natural speech\n",
            "speech segmentation\n",
            "coarticulation\n",
            "analog signal\n",
            "Speech segmentation\n",
            "speech recognition\n",
            "Text-to-speech\n",
            "[20]\n",
            "Word segmentation\n",
            "Tokenization\n",
            "English\n",
            "Chinese\n",
            "Japanese\n",
            "Thai\n",
            "vocabulary\n",
            "morphology\n",
            "bag of words\n",
            "edit\n",
            "Lemmatization\n",
            "[21]\n",
            "Morphological segmentation\n",
            "morphemes\n",
            "morphology\n",
            "English\n",
            "inflectional morphology\n",
            "Turkish\n",
            "Meitei\n",
            "[22]\n",
            "agglutinated\n",
            "Part-of-speech tagging\n",
            "part of speech\n",
            "parts of speech\n",
            "noun\n",
            "verb\n",
            "noun\n",
            "verb\n",
            "adjective\n",
            "Stemming\n",
            "edit\n",
            "Grammar induction\n",
            "[23]\n",
            "formal grammar\n",
            "Sentence breaking\n",
            "sentence boundary disambiguation\n",
            "periods\n",
            "punctuation marks\n",
            "abbreviations\n",
            "Parsing\n",
            "parse tree\n",
            "grammar\n",
            "natural languages\n",
            "ambiguous\n",
            "probabilistic context-free grammar\n",
            "stochastic grammar\n",
            "edit\n",
            "Lexical semantics\n",
            "Distributional semantics\n",
            "Named entity recognition\n",
            "capitalization\n",
            "named entity\n",
            "Chinese\n",
            "Arabic\n",
            "German\n",
            "nouns\n",
            "French\n",
            "Spanish\n",
            "adjectives\n",
            "Sentiment analysis\n",
            "Multimodal sentiment analysis\n",
            "Terminology extraction\n",
            "Word-sense disambiguation\n",
            "meaning\n",
            "WordNet\n",
            "Entity linking\n",
            "named entities\n",
            "edit\n",
            "Relationship extraction\n",
            "Semantic parsing\n",
            "AMR parsing\n",
            "DRT parsing\n",
            "Natural language understanding\n",
            "Semantic role labelling\n",
            "frames\n",
            "semantic roles\n",
            "edit\n",
            "Coreference resolution\n",
            "Anaphora resolution\n",
            "pronouns\n",
            "referring expressions\n",
            "Discourse analysis\n",
            "discourse\n",
            "speech acts\n",
            "frames\n",
            "Semantic role labelling\n",
            "pro-drop languages\n",
            "Recognizing textual entailment\n",
            "[24]\n",
            "Topic segmentation\n",
            "Argument mining\n",
            "natural language\n",
            "[25]\n",
            "argument scheme\n",
            "[26]\n",
            "[27]\n",
            "edit\n",
            "Automatic summarization\n",
            "[28]\n",
            "1 the Road\n",
            "language models\n",
            "[29]\n",
            "Dialogue management\n",
            "Document AI\n",
            "[30]\n",
            "[31]\n",
            "[32]\n",
            "[33]\n",
            "GPT-2\n",
            "Machine translation\n",
            "AI-complete\n",
            "Natural-language generation\n",
            "Natural-language understanding\n",
            "first-order logic\n",
            "computer\n",
            "closed-world assumption\n",
            "open-world assumption\n",
            "[34]\n",
            "Question answering\n",
            "[35]\n",
            "3D model\n",
            "[36]\n",
            "[37]\n",
            "edit\n",
            "[38]\n",
            "edit\n",
            "Cognition\n",
            "[39]\n",
            "Cognitive science\n",
            "[40]\n",
            "Cognitive linguistics\n",
            "[41]\n",
            "symbolic NLP\n",
            "George Lakoff\n",
            "cognitive science\n",
            "cognitive linguistics\n",
            "[42]\n",
            "conceptual metaphor\n",
            "[43]\n",
            "probabilistic context-free grammar\n",
            "US patent 9269353\n",
            "[44]\n",
            "[45]\n",
            "[46]\n",
            "ACT-R\n",
            "[47]\n",
            "ACL\n",
            "explainability\n",
            "[48]\n",
            "multimodal\n",
            "[49]\n",
            "edit\n",
            "1 the Road\n",
            "Automated essay scoring\n",
            "Biomedical text mining\n",
            "Compound term processing\n",
            "Computational linguistics\n",
            "Computer-assisted reviewing\n",
            "Controlled natural language\n",
            "Deep learning\n",
            "Deep linguistic processing\n",
            "Distributional semantics\n",
            "Foreign language reading aid\n",
            "Foreign language writing aid\n",
            "Information extraction\n",
            "Information retrieval\n",
            "Language and Communication Technologies\n",
            "Language technology\n",
            "Latent semantic indexing\n",
            "Native-language identification\n",
            "Natural-language programming\n",
            "Natural-language understanding\n",
            "Natural-language search\n",
            "Outline of natural language processing\n",
            "Query expansion\n",
            "Query understanding\n",
            "Reification (linguistics)\n",
            "Speech processing\n",
            "Spoken dialogue systems\n",
            "Text-proofing\n",
            "Text simplification\n",
            "Transformer (machine learning model)\n",
            "Truecasing\n",
            "Question answering\n",
            "Word2vec\n",
            "edit\n",
            "^\n",
            "doi\n",
            "10.1145/1643823.1643908\n",
            "ISBN\n",
            "9781605588292\n",
            "^\n",
            "\"The history of machine translation in a nutshell\"\n",
            "self-published source\n",
            "^\n",
            "Koskenniemi, Kimmo\n",
            "Two-level morphology: A general computational model of word-form recognition and production\n",
            "University of Helsinki\n",
            "^\n",
            "Control of Inference: Role of Some Aspects of Discourse Structure-Centering\n",
            "^\n",
            "doi\n",
            "10.1109/PROC.1986.13580\n",
            "ISSN\n",
            "1558-2256\n",
            "S2CID\n",
            "30688575\n",
            "^\n",
            "corner cases\n",
            "pathological\n",
            "thought experiments\n",
            "corpus linguistics\n",
            "corpora\n",
            "poverty of the stimulus\n",
            "^\n",
            "arXiv\n",
            "1807.10854\n",
            "doi\n",
            "10.1613/jair.4992\n",
            "S2CID\n",
            "8273530\n",
            "^\n",
            "Deep Learning\n",
            "^\n",
            "arXiv\n",
            "1602.02410\n",
            "Bibcode\n",
            "2016arXiv160202410J\n",
            "^\n",
            "\"Parsing as Language Modeling\"\n",
            "the original\n",
            "^\n",
            "\"Grammar as a Foreign Language\"\n",
            "arXiv\n",
            "1412.7449\n",
            "Bibcode\n",
            "2014arXiv1412.7449V\n",
            "^\n",
            "\"Using Natural Language Processing to Measure and Improve Quality of Diabetes Care: A Systematic Review\"\n",
            "doi\n",
            "10.1177/19322968211000831\n",
            "ISSN\n",
            "1932-2968\n",
            "PMC\n",
            "8120048\n",
            "PMID\n",
            "33736486\n",
            "^\n",
            "Procedures as a Representation for Data in a Computer Program for Understanding Natural Language\n",
            "^\n",
            "ISBN\n",
            "0-470-99033-3\n",
            "^\n",
            "Mark Johnson. How the statistical revolution changes (computational) linguistics.\n",
            "^\n",
            "Philip Resnik. Four revolutions.\n",
            "^\n",
            "\"Investigating complex-valued representation in NLP\"\n",
            "cite web\n",
            "link\n",
            "^\n",
            "arXiv\n",
            "1705.09792\n",
            "cs.NE\n",
            "^\n",
            "\"Deep Learning For NLP-ACL 2012 Tutorial\"\n",
            "^\n",
            "CiteSeerX\n",
            "10.1.1.668.869\n",
            "doi\n",
            "10.1007/978-3-642-29364-1_2\n",
            "ISBN\n",
            "9783642293634\n",
            "^\n",
            "\"What is Natural Language Processing? Intro to NLP in Machine Learning\"\n",
            "^\n",
            "\"Manipuri Morpheme Identification\"\n",
            "cite journal\n",
            "link\n",
            "^\n",
            "\"Natural language grammar induction using a constituent-context model\"\n",
            "^\n",
            "https://tac.nist.gov//2011/RTE/\n",
            "^\n",
            "\"Argumentation Mining: State of the Art and Emerging Trends\"\n",
            "doi\n",
            "10.1145/2850417\n",
            "hdl\n",
            "11585/523460\n",
            "ISSN\n",
            "1533-5399\n",
            "S2CID\n",
            "9561587\n",
            "^\n",
            "\"Argument Mining - IJCAI2016 Tutorial\"\n",
            "^\n",
            "\"NLP Approaches to Computational Argumentation – ACL 2016, Berlin\"\n",
            "^\n",
            "\"U B U W E B :: Racter\"\n",
            "^\n",
            "doi\n",
            "10.1007/978-3-030-16800-1\n",
            "ISBN\n",
            "978-3-030-16799-8\n",
            "S2CID\n",
            "155818532\n",
            "^\n",
            "\"Document Understanding AI on Google Cloud (Cloud Next '19) - YouTube\"\n",
            "the original\n",
            "^\n",
            "\"Centre for Language Technology (CLT)\"\n",
            "^\n",
            "\"Shared Task: Grammatical Error Correction\"\n",
            "^\n",
            "\"Shared Task: Grammatical Error Correction\"\n",
            "^\n",
            "\"Formalizing Semantic of Natural Language through Conceptualization from Existence\"\n",
            "the original\n",
            "^\n",
            "\"OpenAI's DALL-E AI image generator can now edit pictures, too\"\n",
            "^\n",
            "\"The Stanford Natural Language Processing Group\"\n",
            "^\n",
            "\"WordsEye: an automatic text-to-scene conversion system\"\n",
            "doi\n",
            "10.1145/383259.383316\n",
            "ISBN\n",
            "978-1-58113-374-5\n",
            "^\n",
            "\"Previous shared tasks | CoNLL\"\n",
            "^\n",
            "\"Cognition\"\n",
            "Oxford University Press\n",
            "Dictionary.com\n",
            "^\n",
            "\"Ask the Cognitive Scientist\"\n",
            "^\n",
            "ISBN\n",
            "978-0-805-85352-0\n",
            "^\n",
            "ISBN\n",
            "978-0-465-05674-3\n",
            "^\n",
            "ISBN\n",
            "978-0-521-59541-4\n",
            "^\n",
            "\"Universal Conceptual Cognitive Annotation (UCCA)\"\n",
            "^\n",
            "Building an RRG computational grammar\n",
            "^\n",
            "\"Fluid Construction Grammar – A fully operational processing system for construction grammars\"\n",
            "^\n",
            "\"ACL Member Portal | The Association for Computational Linguistics Member Portal\"\n",
            "^\n",
            "\"Chunks and Rules\"\n",
            "^\n",
            "\"Grounded Compositional Semantics for Finding and Describing Images with Sentences\"\n",
            "doi\n",
            "10.1162/tacl_a_00177\n",
            "S2CID\n",
            "2317858\n",
            "edit\n",
            "\"Models of natural language understanding\"\n",
            "Bibcode\n",
            "1995PNAS...92.9977B\n",
            "doi\n",
            "10.1073/pnas.92.22.9977\n",
            "PMC\n",
            "40721\n",
            "PMID\n",
            "7479812\n",
            "ISBN\n",
            "978-0-596-51649-9\n",
            "ISBN\n",
            "978-0-13-187321-6\n",
            "ISBN\n",
            "978-1848218482\n",
            "ISBN\n",
            "978-1848219212\n",
            "ISBN\n",
            "978-0-521-86571-5\n",
            "Official html and pdf versions available without charge.\n",
            "ISBN\n",
            "978-0-262-13360-9\n",
            "ISBN\n",
            "978-0-387-19557-5\n",
            "edit\n",
            "None\n",
            "Natural language processing\n",
            "v\n",
            "t\n",
            "e\n",
            "Natural language processing\n",
            "AI-complete\n",
            "Bag-of-words\n",
            "n-gram\n",
            "Bigram\n",
            "Trigram\n",
            "Computational linguistics\n",
            "Natural-language understanding\n",
            "Stop words\n",
            "Text processing\n",
            "Text analysis\n",
            "Collocation extraction\n",
            "Concept mining\n",
            "Coreference resolution\n",
            "Deep linguistic processing\n",
            "Distant reading\n",
            "Information extraction\n",
            "Named-entity recognition\n",
            "Ontology learning\n",
            "Parsing\n",
            "Part-of-speech tagging\n",
            "Semantic role labeling\n",
            "Semantic similarity\n",
            "Sentiment analysis\n",
            "Terminology extraction\n",
            "Text mining\n",
            "Textual entailment\n",
            "Truecasing\n",
            "Word-sense disambiguation\n",
            "Word-sense induction\n",
            "Text segmentation\n",
            "Compound-term processing\n",
            "Lemmatisation\n",
            "Lexical analysis\n",
            "Text chunking\n",
            "Stemming\n",
            "Sentence segmentation\n",
            "Word segmentation\n",
            "Automatic summarization\n",
            "Multi-document summarization\n",
            "Sentence extraction\n",
            "Text simplification\n",
            "Machine translation\n",
            "Computer-assisted\n",
            "Example-based\n",
            "Rule-based\n",
            "Statistical\n",
            "Transfer-based\n",
            "Neural\n",
            "Distributional semantics\n",
            "BERT\n",
            "Document-term matrix\n",
            "Explicit semantic analysis\n",
            "fastText\n",
            "GloVe\n",
            "Latent semantic analysis\n",
            "Word embedding\n",
            "Word2vec\n",
            "Language resources\n",
            "Corpus linguistics\n",
            "Lexical resource\n",
            "Linguistic Linked Open Data\n",
            "Machine-readable dictionary\n",
            "Parallel text\n",
            "PropBank\n",
            "Semantic network\n",
            "Simple Knowledge Organization System\n",
            "Speech corpus\n",
            "Text corpus\n",
            "Thesaurus (information retrieval)\n",
            "Treebank\n",
            "Universal Dependencies\n",
            "BabelNet\n",
            "Bank of English\n",
            "DBpedia\n",
            "FrameNet\n",
            "Google Ngram Viewer\n",
            "ThoughtTreasure\n",
            "UBY\n",
            "WordNet\n",
            "None\n",
            "Speech recognition\n",
            "Speech segmentation\n",
            "Speech synthesis\n",
            "Natural language generation\n",
            "Optical character recognition\n",
            "Topic model\n",
            "Document classification\n",
            "Latent Dirichlet allocation\n",
            "Pachinko allocation\n",
            "None\n",
            "Automated essay scoring\n",
            "Concordancer\n",
            "Grammar checker\n",
            "Predictive text\n",
            "Spell checker\n",
            "Syntax guessing\n",
            "None\n",
            "Chatbot\n",
            "Interactive fiction\n",
            "Question answering\n",
            "Virtual assistant\n",
            "Voice user interface\n",
            "Natural Language Toolkit\n",
            "spaCy\n",
            "Portal\n",
            "None\n",
            "Language\n",
            "Authority control: National libraries\n",
            "None\n",
            "Israel\n",
            "United States\n",
            "Japan\n",
            "https://en.wikipedia.org/w/index.php?title=Natural_language_processing&oldid=1093868703\n",
            "Categories\n",
            "Natural language processing\n",
            "Artificial intelligence\n",
            "Computational fields of study\n",
            "Computational linguistics\n",
            "Speech recognition\n",
            "All accuracy disputes\n",
            "Accuracy disputes from December 2013\n",
            "CS1 maint: url-status\n",
            "CS1 maint: location\n",
            "Articles with short description\n",
            "Short description matches Wikidata\n",
            "Commons category link from Wikidata\n",
            "Articles with J9U identifiers\n",
            "Articles with LCCN identifiers\n",
            "Articles with NDL identifiers\n",
            "Talk\n",
            "Contributions\n",
            "Create account\n",
            "Log in\n",
            "Article\n",
            "Talk\n",
            "Read\n",
            "Edit\n",
            "View history\n",
            "None\n",
            "Main page\n",
            "Contents\n",
            "Current events\n",
            "Random article\n",
            "About Wikipedia\n",
            "Contact us\n",
            "Donate\n",
            "Help\n",
            "Learn to edit\n",
            "Community portal\n",
            "Recent changes\n",
            "Upload file\n",
            "What links here\n",
            "Related changes\n",
            "Upload file\n",
            "Special pages\n",
            "Permanent link\n",
            "Page information\n",
            "Cite this page\n",
            "Wikidata item\n",
            "Download as PDF\n",
            "Printable version\n",
            "Wikimedia Commons\n",
            "Wikiversity\n",
            "Afrikaans\n",
            "العربية\n",
            "Azərbaycanca\n",
            "বাংলা\n",
            "Bân-lâm-gú\n",
            "Беларуская\n",
            "Беларуская (тарашкевіца)\n",
            "Български\n",
            "Bosanski\n",
            "Català\n",
            "Čeština\n",
            "Dansk\n",
            "Deutsch\n",
            "Eesti\n",
            "Ελληνικά\n",
            "Español\n",
            "Euskara\n",
            "فارسی\n",
            "Français\n",
            "Galego\n",
            "한국어\n",
            "Հայերեն\n",
            "हिन्दी\n",
            "Hrvatski\n",
            "Bahasa Indonesia\n",
            "Íslenska\n",
            "Italiano\n",
            "עברית\n",
            "ಕನ್ನಡ\n",
            "ქართული\n",
            "Lietuvių\n",
            "Македонски\n",
            "मराठी\n",
            "مصرى\n",
            "Монгол\n",
            "မြန်မာဘာသာ\n",
            "日本語\n",
            "ଓଡ଼ିଆ\n",
            "Picard\n",
            "Piemontèis\n",
            "Polski\n",
            "Português\n",
            "Română\n",
            "Русский\n",
            "Simple English\n",
            "کوردی\n",
            "Српски / srpski\n",
            "Srpskohrvatski / српскохрватски\n",
            "Suomi\n",
            "தமிழ்\n",
            "ไทย\n",
            "Türkçe\n",
            "Українська\n",
            "Tiếng Việt\n",
            "粵語\n",
            "中文\n",
            "Edit links\n",
            "Creative Commons Attribution-ShareAlike License 3.0\n",
            "None\n",
            "Terms of Use\n",
            "Privacy Policy\n",
            "Wikimedia Foundation, Inc.\n",
            "Privacy policy\n",
            "About Wikipedia\n",
            "Disclaimers\n",
            "Contact Wikipedia\n",
            "Mobile view\n",
            "Developers\n",
            "Statistics\n",
            "Cookie statement\n",
            "None\n",
            "None\n"
          ]
        }
      ]
    },
    {
      "cell_type": "code",
      "source": [
        "for x in soup.find_all('p'): print(x.text)"
      ],
      "metadata": {
        "colab": {
          "base_uri": "https://localhost:8080/"
        },
        "id": "I5gGRnhPFBgo",
        "outputId": "a77d8fbc-d945-4dc0-faa4-8486ea1d9b10"
      },
      "execution_count": null,
      "outputs": [
        {
          "output_type": "stream",
          "name": "stdout",
          "text": [
            "Natural language processing (NLP) is a subfield of linguistics, computer science, and artificial intelligence concerned with the interactions between computers and human language, in particular how to program computers to process and analyze large amounts of natural language data.  The goal is a computer capable of \"understanding\" the contents of documents, including the contextual nuances of the language within them. The technology can then accurately extract information and insights contained in the documents as well as categorize and organize the documents themselves.\n",
            "\n",
            "Challenges in natural language processing frequently involve speech recognition, natural-language understanding, and natural-language generation.\n",
            "\n",
            "Natural language processing has its roots in the 1950s. Already in 1950, Alan Turing published an article titled \"Computing Machinery and Intelligence\" which proposed what is now called the Turing test as a criterion of intelligence, though at the time that was not articulated as a problem separate from artificial intelligence. The proposed test includes a task that involves the automated interpretation and generation of natural language.\n",
            "\n",
            "The premise of symbolic NLP is well-summarized by John Searle's Chinese room experiment: Given a collection of rules (e.g., a Chinese phrasebook, with questions and matching answers), the computer emulates natural language understanding (or other NLP tasks) by applying those rules to the data it confronts.\n",
            "\n",
            "Up to the 1980s, most natural language processing systems were based on complex sets of hand-written rules.  Starting in the late 1980s, however, there was a revolution in natural language processing with the introduction of machine learning algorithms for language processing.  This was due to both the steady increase in computational power (see Moore's law) and the gradual lessening of the dominance of Chomskyan theories of linguistics (e.g. transformational grammar), whose theoretical underpinnings discouraged the sort of corpus linguistics that underlies the machine-learning approach to language processing.[6]\n",
            "\n",
            "In the 2010s, representation learning and deep neural network-style machine learning methods became widespread in natural language processing. That popularity was due partly to a flurry of results showing that such techniques[7][8] can achieve state-of-the-art results in many natural language tasks, e.g., in language modeling[9] and parsing.[10][11] This is increasingly important in medicine and healthcare, where NLP helps analyze notes and text in electronic health records that would otherwise be inaccessible for study when seeking to improve care.[12]\n",
            "\n",
            "In the early days, many language-processing systems were designed by symbolic methods, i.e., the hand-coding of a set of rules, coupled with a dictionary lookup:[13][14] such as by writing grammars or devising heuristic rules for stemming.\n",
            "\n",
            "More recent systems based on machine-learning algorithms have many advantages over hand-produced rules: \n",
            "\n",
            "Despite the popularity of machine learning in NLP research, symbolic methods are still (2020) commonly used:\n",
            "\n",
            "Since the so-called \"statistical revolution\"[15][16] in the late 1980s and mid-1990s, much natural language processing research has relied heavily on machine learning. The machine-learning paradigm calls instead for using statistical inference to automatically learn such rules through the analysis of large corpora (the plural form of corpus, is a set of documents, possibly with human or computer annotations) of typical real-world examples.\n",
            "\n",
            "Many different classes of machine-learning algorithms have been applied to natural-language-processing tasks. These algorithms take as input a large set of \"features\" that are generated from the input data. Increasingly, however, research has focused on statistical models, which make soft, probabilistic decisions based on attaching real-valued weights to each input feature (complex-valued embeddings,[17] and neural networks in general have also been proposed, for e.g. speech[18]). Such models have the advantage that they can express the relative certainty of many different possible answers rather than only one, producing more reliable results when such a model is included as a component of a larger system.\n",
            "\n",
            "Some of the earliest-used machine learning algorithms, such as decision trees, produced systems of hard if-then rules similar to existing hand-written rules.  However, part-of-speech tagging introduced the use of hidden Markov models to natural language processing, and increasingly, research has focused on statistical models, which make soft, probabilistic decisions based on attaching real-valued weights to the features making up the input data. The cache language models upon which many speech recognition systems now rely are examples of such statistical models.  Such models are generally more robust when given unfamiliar input, especially input that contains errors (as is very common for real-world data), and produce more reliable results when integrated into a larger system comprising multiple subtasks.\n",
            "\n",
            "Since the neural turn, statistical methods in NLP research have been largely replaced by neural networks. However, they continue to be relevant for contexts in which statistical interpretability and transparency is required.\n",
            "\n",
            "A major drawback of statistical methods is that they require elaborate feature engineering. Since 2015,[19] the field has thus largely abandoned statistical methods and shifted to neural networks for machine learning. Popular techniques include the use of word embeddings to capture semantic properties of words, and an increase in end-to-end learning of a higher-level task (e.g., question answering) instead of relying on a pipeline of separate intermediate tasks (e.g., part-of-speech tagging and dependency parsing). In some areas, this shift has entailed substantial changes in how NLP systems are designed, such that deep neural network-based approaches may be viewed as a new paradigm distinct from statistical natural language processing. For instance, the term neural machine translation (NMT) emphasizes the fact that deep learning-based approaches to machine translation directly learn sequence-to-sequence transformations, obviating the need for intermediate steps such as word alignment and language modeling that was used in statistical machine translation (SMT).\n",
            "\n",
            "The following is a list of some of the most commonly researched tasks in natural language processing. Some of these tasks have direct real-world applications, while others more commonly serve as subtasks that are used to aid in solving larger tasks.\n",
            "\n",
            "Though natural language processing tasks are closely intertwined, they can be subdivided into categories for convenience. A coarse division is given below.\n",
            "\n",
            "Based on long-standing trends in the field, it is possible to extrapolate future directions of NLP. As of 2020, three trends among the topics of the long-standing series of CoNLL Shared Tasks can be observed:[38]\n",
            "\n",
            "Most higher-level NLP applications involve aspects that emulate intelligent behaviour and apparent comprehension of natural language. More broadly speaking, the technical operationalization of increasingly advanced aspects of cognitive behaviour represents one of the developmental trajectories of NLP (see trends among CoNLL shared tasks above).\n",
            "\n",
            "Cognition refers to \"the mental action or process of acquiring knowledge and understanding through thought, experience, and the senses.\"[39] Cognitive science is the interdisciplinary, scientific study of the mind and its processes.[40] Cognitive linguistics is an interdisciplinary branch of linguistics, combining knowledge and research from both psychology and linguistics.[41] Especially during the age of symbolic NLP, the area of computational linguistics maintained strong ties with cognitive studies.\n",
            "\n",
            "As an example, George Lakoff offers a methodology to build natural language processing (NLP) algorithms through the perspective of cognitive science, along with the findings of cognitive linguistics,[42] with two defining aspects:\n",
            "\n",
            "Ties with cognitive linguistics are part of the historical heritage of NLP, but they have been less frequently addressed since the statistical turn during the 1990s. Nevertheless, approaches to develop cognitive models towards technically operationalizable frameworks have been pursued in the context of various frameworks, e.g., of cognitive grammar,[44] functional grammar,[45] construction grammar,[46] computational psycholinguistics and cognitive neuroscience (e.g., ACT-R), however, with limited uptake in mainstream NLP (as measured by presence on major conferences[47] of the ACL). More recently, ideas of cognitive NLP have been revived as an approach to achieve explainability, e.g., under the notion of \"cognitive AI\".[48] Likewise, ideas of cognitive NLP are inherent to neural models multimodal NLP (although rarely made explicit).[49]\n",
            "\n"
          ]
        }
      ]
    },
    {
      "cell_type": "markdown",
      "source": [
        "#1-6. Parsing Text Using Regular Expressions"
      ],
      "metadata": {
        "id": "QdiC6uB2FH0d"
      }
    },
    {
      "cell_type": "code",
      "source": [
        "import re\n",
        "#run the split query\n",
        "re.split('\\s+','I like this book.')"
      ],
      "metadata": {
        "colab": {
          "base_uri": "https://localhost:8080/"
        },
        "id": "cJ9Ece7QFLu-",
        "outputId": "dd012943-d714-4d59-8055-218b11c63ebb"
      },
      "execution_count": 66,
      "outputs": [
        {
          "output_type": "execute_result",
          "data": {
            "text/plain": [
              "['I', 'like', 'this', 'book.']"
            ]
          },
          "metadata": {},
          "execution_count": 66
        }
      ]
    },
    {
      "cell_type": "code",
      "source": [
        "doc = \"For more details please mail us at: xyz@abc.com,pqr@mno.com\""
      ],
      "metadata": {
        "id": "pB9cES0bFX2N"
      },
      "execution_count": 67,
      "outputs": []
    },
    {
      "cell_type": "code",
      "source": [
        "addresses = re.findall(r'[\\w\\.-]+@[\\w\\.-]+', doc)\n",
        "for address in addresses:\n",
        "    print(address)"
      ],
      "metadata": {
        "colab": {
          "base_uri": "https://localhost:8080/"
        },
        "id": "g0r0zCcbFbrG",
        "outputId": "215defda-b1c0-4fcb-ec9c-cc283b4d1f6a"
      },
      "execution_count": 68,
      "outputs": [
        {
          "output_type": "stream",
          "name": "stdout",
          "text": [
            "xyz@abc.com\n",
            "pqr@mno.com\n"
          ]
        }
      ]
    },
    {
      "cell_type": "code",
      "source": [
        "doc = \"For more details please mail us at xyz@abc.com\""
      ],
      "metadata": {
        "id": "mQ5Kl542Fevq"
      },
      "execution_count": 69,
      "outputs": []
    },
    {
      "cell_type": "code",
      "source": [
        "new_email_address = re.sub(r'([\\w\\.-]+)@([\\w\\.-]+)',\n",
        "r'pqr@mno.com', doc)\n",
        "print(new_email_address)"
      ],
      "metadata": {
        "colab": {
          "base_uri": "https://localhost:8080/"
        },
        "id": "5_ZAuD2LFhue",
        "outputId": "50cca880-3cd6-4b5b-f848-790bdb287e05"
      },
      "execution_count": 70,
      "outputs": [
        {
          "output_type": "stream",
          "name": "stdout",
          "text": [
            "For more details please mail us at pqr@mno.com\n"
          ]
        }
      ]
    },
    {
      "cell_type": "code",
      "source": [
        "import re\n",
        "import requests\n",
        "#url you want to extract\n",
        "url = \"http://www.gutenberg.org/cache/epub/35534/pg35534.txt\"\n",
        "#function to extract\n",
        "def get_book(url):\n",
        "  raw = requests.get(url).text\n",
        "  start = re.search(r\"\\*\\*\\* START OF THIS PROJECT GUTENBERG EBOOK .* \\*\\*\\*\",raw ).end()\n",
        "  stop = re.search(r\"II\", raw).start()\n",
        "  text = raw[start:stop]\n",
        "  return text\n",
        "# processing\n",
        "def preprocess(sentence):\n",
        "  return re.sub('[^A-Za-z0-9.]+' , ' ', sentence).lower()\n",
        "#calling the above function\n",
        "book = get_book(url)\n",
        "processed_book = preprocess(book)\n",
        "print(processed_book)"
      ],
      "metadata": {
        "colab": {
          "base_uri": "https://localhost:8080/"
        },
        "id": "TTiSxQmsFuyL",
        "outputId": "960b75a2-bb8d-4037-b933-0ef809808f6a"
      },
      "execution_count": 82,
      "outputs": [
        {
          "output_type": "stream",
          "name": "stdout",
          "text": [
            " produced by colin bell christine p. travers and the online distributed proofreading team at http www.pgdp.net this file was produced from images generously made available by the internet archive transcriber s note the author s spelling has been maintained. signs around words indicate the use of a different font in the book. in the word puranic the a is overlined in the book. how to be happy though married. press notices on the first edition. if wholesome advice you can brook when single too long you have tarried if comfort you d gain from a book when very much wedded and harried no doubt you should speedily look in how to be happy though married punch. we strongly recommend this book as one of the best of wedding presents. it is a complete handbook to an earthly paradise and its author may be regarded as the murray of matrimony and the baedeker of bliss. pall mall gazette. the author has successfully accomplished a difficult task in writing a clever and practical book on the important subject of matrimony.... this book which is at once entertaining and full of wise precepts deserves to be widely read. morning post. an entertaining volume.... the new guide to matrimonial felicity. standard leader. a clever readable and entertaining book.... this delicious book. literary churchman. this most elucidatory treatise.... as a companion to the honeymoon this orange blossom true love knot ornamented volume should no doubt be highly esteemed. whitehall review. the book is tastefully got up and its contents adapt it very well for a present to a young bride. queen. one of the cleverest best written books on the subject we have read at any time. to girls contemplating marriage the volume should be presented as a wedding gift.... grave and gay but never for a moment dull or tiresome. each page sparkles with anecdote or suggestive illustration. ladies treasury. a highly ornamental yet handy well printed and admirably written volume. the lady. a rich store of entertaining anecdote and full of thoughts beautiful pious and wise. has a tasteful binding. bookseller. how to be happy though married being a handbook to marriage by a graduate in the university of matrimony. domestic happiness thou only bliss of paradise that hast survived the fall though few now taste thee unimpaired and pure or tasting long enjoy thee too infirm or too incautious to preserve thy sweets unmixed with drops of bitters which neglect or temper sheds into thy crystal cup. cowper. it is fit that i should infuse a bunch of myrrh into the festival goblet and after the egyptian manner serve up a dead man s bones at a feast i will only show it and take it away again it will make the wine bitter but wholesome. jeremy taylor. seventh and popular edition. london t fisher unwin 26 paternoster square 1887 to those brave men and women who have ventured or who intend to venture into that state which is a blessing to a few a curse to many and a great uncertainty to all this book is respectfully dedicated in admiration of their courage. preface. most of the books intended to give counsel and ghostly strength to newly married people are so like a collection of sermons that they are given away rather than read. when writing the following pages i have remembered that the only kind of vice all people agree to shun is advice and have endeavoured to hide the pill. this is my excuse if at times i seem to fall into anecdotage. one day two birds were busy building their nest in luther s garden. observing that they were often scared while committing their petty thefts by the passers to and fro the doctor exclaimed oh poor little birds fly not away i wish you well with all my heart if you would only believe me if any birds of paradise or to speak plainly newly married people are a little scared by the title of this book or by any of its contents i assure them that while trying to place before them the responsibilities they have undertaken i wish them well with all my heart and take great interest in their nest building. to ask critics to be merciful at a time when new books are so numerous that our eyes ache with reading and our fingers with turning the pages would be to ask them not to do their duty. they are the policemen of literature and they are bound to make bad and worthless books move on out of the way of their betters. i can only hope that if any notice this little venture they may not feel obliged to crush it among the stoure as the ayrshire ploughman had to crush the wee modest crimson tipped flower. i take this opportunity of thanking m. h. my best friend without whose help and sympathy this book would be a worse one than it is and my life much more unsatisfactory. part of the first chapter was published in chambers s journal and i am indebted to cassell s saturday journal for two anecdotes. i now tender my best thanks to the proprietors of those periodicals for permission to reprint the passages. preface to the second edition. the wee modest crimson tipped flower as i called this book when it first made its appearance has not been crushed with the ploughshare of criticism among the stoure. on the contrary it has been so well received that i am full of gratitude to the reviewers who recommended it and to the public who bought it. one critic suggested that to make the work complete a chapter on second marriages should be added. my reason for not writing such a chapter is that not having myself been as yet often married i did not presume to give advice to widows and widowers who have their own experience to guide them. taking up the book in a lending library a friend read aloud the title to a lady who accompanied her how to be happy though married. lady oh bother the happiness does it tell how to be married i hope that i may be pardoned if i cannot always do this. contents. chapter i. page how to be happy though married 1 chapter \n"
          ]
        }
      ]
    },
    {
      "cell_type": "code",
      "source": [
        "len(re.findall(r'the', processed_book))"
      ],
      "metadata": {
        "colab": {
          "base_uri": "https://localhost:8080/"
        },
        "id": "ZKFKO2X1wuFE",
        "outputId": "e2f04583-d082-4508-e0cc-f714d967875e"
      },
      "execution_count": 83,
      "outputs": [
        {
          "output_type": "execute_result",
          "data": {
            "text/plain": [
              "78"
            ]
          },
          "metadata": {},
          "execution_count": 83
        }
      ]
    },
    {
      "cell_type": "code",
      "source": [
        "processed_book = re.sub(r'\\si\\s', \" I \", processed_book)\n",
        "print(processed_book)"
      ],
      "metadata": {
        "colab": {
          "base_uri": "https://localhost:8080/"
        },
        "id": "0-ngffZbwx6w",
        "outputId": "10a850e7-b326-4164-e9a7-b527079e6f6f"
      },
      "execution_count": 84,
      "outputs": [
        {
          "output_type": "stream",
          "name": "stdout",
          "text": [
            " produced by colin bell christine p. travers and the online distributed proofreading team at http www.pgdp.net this file was produced from images generously made available by the internet archive transcriber s note the author s spelling has been maintained. signs around words indicate the use of a different font in the book. in the word puranic the a is overlined in the book. how to be happy though married. press notices on the first edition. if wholesome advice you can brook when single too long you have tarried if comfort you d gain from a book when very much wedded and harried no doubt you should speedily look in how to be happy though married punch. we strongly recommend this book as one of the best of wedding presents. it is a complete handbook to an earthly paradise and its author may be regarded as the murray of matrimony and the baedeker of bliss. pall mall gazette. the author has successfully accomplished a difficult task in writing a clever and practical book on the important subject of matrimony.... this book which is at once entertaining and full of wise precepts deserves to be widely read. morning post. an entertaining volume.... the new guide to matrimonial felicity. standard leader. a clever readable and entertaining book.... this delicious book. literary churchman. this most elucidatory treatise.... as a companion to the honeymoon this orange blossom true love knot ornamented volume should no doubt be highly esteemed. whitehall review. the book is tastefully got up and its contents adapt it very well for a present to a young bride. queen. one of the cleverest best written books on the subject we have read at any time. to girls contemplating marriage the volume should be presented as a wedding gift.... grave and gay but never for a moment dull or tiresome. each page sparkles with anecdote or suggestive illustration. ladies treasury. a highly ornamental yet handy well printed and admirably written volume. the lady. a rich store of entertaining anecdote and full of thoughts beautiful pious and wise. has a tasteful binding. bookseller. how to be happy though married being a handbook to marriage by a graduate in the university of matrimony. domestic happiness thou only bliss of paradise that hast survived the fall though few now taste thee unimpaired and pure or tasting long enjoy thee too infirm or too incautious to preserve thy sweets unmixed with drops of bitters which neglect or temper sheds into thy crystal cup. cowper. it is fit that I should infuse a bunch of myrrh into the festival goblet and after the egyptian manner serve up a dead man s bones at a feast I will only show it and take it away again it will make the wine bitter but wholesome. jeremy taylor. seventh and popular edition. london t fisher unwin 26 paternoster square 1887 to those brave men and women who have ventured or who intend to venture into that state which is a blessing to a few a curse to many and a great uncertainty to all this book is respectfully dedicated in admiration of their courage. preface. most of the books intended to give counsel and ghostly strength to newly married people are so like a collection of sermons that they are given away rather than read. when writing the following pages I have remembered that the only kind of vice all people agree to shun is advice and have endeavoured to hide the pill. this is my excuse if at times I seem to fall into anecdotage. one day two birds were busy building their nest in luther s garden. observing that they were often scared while committing their petty thefts by the passers to and fro the doctor exclaimed oh poor little birds fly not away I wish you well with all my heart if you would only believe me if any birds of paradise or to speak plainly newly married people are a little scared by the title of this book or by any of its contents I assure them that while trying to place before them the responsibilities they have undertaken I wish them well with all my heart and take great interest in their nest building. to ask critics to be merciful at a time when new books are so numerous that our eyes ache with reading and our fingers with turning the pages would be to ask them not to do their duty. they are the policemen of literature and they are bound to make bad and worthless books move on out of the way of their betters. I can only hope that if any notice this little venture they may not feel obliged to crush it among the stoure as the ayrshire ploughman had to crush the wee modest crimson tipped flower. I take this opportunity of thanking m. h. my best friend without whose help and sympathy this book would be a worse one than it is and my life much more unsatisfactory. part of the first chapter was published in chambers s journal and I am indebted to cassell s saturday journal for two anecdotes. I now tender my best thanks to the proprietors of those periodicals for permission to reprint the passages. preface to the second edition. the wee modest crimson tipped flower as I called this book when it first made its appearance has not been crushed with the ploughshare of criticism among the stoure. on the contrary it has been so well received that I am full of gratitude to the reviewers who recommended it and to the public who bought it. one critic suggested that to make the work complete a chapter on second marriages should be added. my reason for not writing such a chapter is that not having myself been as yet often married I did not presume to give advice to widows and widowers who have their own experience to guide them. taking up the book in a lending library a friend read aloud the title to a lady who accompanied her how to be happy though married. lady oh bother the happiness does it tell how to be married I hope that I may be pardoned if I cannot always do this. contents. chapter i. page how to be happy though married 1 chapter \n"
          ]
        }
      ]
    },
    {
      "cell_type": "code",
      "source": [
        "re.findall(r'[a-zA-Z0-9]*--[a-zA-Z0-9]*', book)"
      ],
      "metadata": {
        "colab": {
          "base_uri": "https://localhost:8080/"
        },
        "id": "AG1hUP2zw6lX",
        "outputId": "d655eb9c-8753-46ee-b23a-0aed40090bbd"
      },
      "execution_count": 85,
      "outputs": [
        {
          "output_type": "execute_result",
          "data": {
            "text/plain": [
              "['--PUNCH',\n",
              " '--',\n",
              " '--',\n",
              " '--',\n",
              " '--',\n",
              " '--',\n",
              " '--',\n",
              " '--',\n",
              " '--',\n",
              " '--',\n",
              " '--',\n",
              " '--',\n",
              " 'is--advice',\n",
              " 'her--']"
            ]
          },
          "metadata": {},
          "execution_count": 85
        }
      ]
    },
    {
      "cell_type": "markdown",
      "source": [
        "#1-8. Scraping Text from the Web"
      ],
      "metadata": {
        "id": "p1VJ0aAxxOYM"
      }
    },
    {
      "cell_type": "code",
      "source": [
        "!pip install bs4\n",
        "!pip install requests"
      ],
      "metadata": {
        "colab": {
          "base_uri": "https://localhost:8080/"
        },
        "id": "GVN42TyExUYl",
        "outputId": "7f38d896-ec37-4537-86f6-42f0ca63dc1d"
      },
      "execution_count": 1,
      "outputs": [
        {
          "output_type": "stream",
          "name": "stdout",
          "text": [
            "Looking in indexes: https://pypi.org/simple, https://us-python.pkg.dev/colab-wheels/public/simple/\n",
            "Requirement already satisfied: bs4 in /usr/local/lib/python3.7/dist-packages (0.0.1)\n",
            "Requirement already satisfied: beautifulsoup4 in /usr/local/lib/python3.7/dist-packages (from bs4) (4.6.3)\n",
            "Looking in indexes: https://pypi.org/simple, https://us-python.pkg.dev/colab-wheels/public/simple/\n",
            "Requirement already satisfied: requests in /usr/local/lib/python3.7/dist-packages (2.23.0)\n",
            "Requirement already satisfied: idna<3,>=2.5 in /usr/local/lib/python3.7/dist-packages (from requests) (2.10)\n",
            "Requirement already satisfied: chardet<4,>=3.0.2 in /usr/local/lib/python3.7/dist-packages (from requests) (3.0.4)\n",
            "Requirement already satisfied: certifi>=2017.4.17 in /usr/local/lib/python3.7/dist-packages (from requests) (2022.6.15)\n",
            "Requirement already satisfied: urllib3!=1.25.0,!=1.25.1,<1.26,>=1.21.1 in /usr/local/lib/python3.7/dist-packages (from requests) (1.24.3)\n"
          ]
        }
      ]
    },
    {
      "cell_type": "code",
      "source": [
        "from bs4 import BeautifulSoup\n",
        "import requests\n",
        "import pandas as pd\n",
        "from pandas import Series, DataFrame\n",
        "from ipywidgets import FloatProgress\n",
        "from time import sleep\n",
        "from IPython.display import display\n",
        "import re\n",
        "import pickle"
      ],
      "metadata": {
        "id": "dHvnPgdbxXkx"
      },
      "execution_count": 2,
      "outputs": []
    },
    {
      "cell_type": "code",
      "source": [
        "url = 'http://www.imdb.com/chart/top?ref_=nv_mv_250_6'"
      ],
      "metadata": {
        "id": "I7mvdzE6xbT_"
      },
      "execution_count": 3,
      "outputs": []
    },
    {
      "cell_type": "code",
      "source": [
        "result = requests.get(url)\n",
        "c = result.content\n",
        "soup = BeautifulSoup(c,\"lxml\")"
      ],
      "metadata": {
        "id": "REkPHSK3xfWH"
      },
      "execution_count": 4,
      "outputs": []
    },
    {
      "cell_type": "code",
      "source": [
        "summary = soup.find('div',{'class':'article'})\n",
        "# Create empty lists to append the extracted data.\n",
        "moviename = []\n",
        "cast = []\n",
        "description = []\n",
        "rating = []\n",
        "ratingoutof = []\n",
        "year = []\n",
        "genre = []\n",
        "movielength = []\n",
        "rot_audscore = []\n",
        "rot_avgrating = []\n",
        "rot_users = []\n",
        "# Extracting the required data from the html soup.\n",
        "rgx = re.compile('[%s]' % '()')\n",
        "f = FloatProgress(min=0, max=250)\n",
        "display(f)\n",
        "for row,i in zip(summary.find('table').findAll('tr'),range(len(summary.find('table').findAll('tr')))):\n",
        "    for sitem in row.findAll('span',{'class':'secondaryInfo'}):\n",
        "        s = sitem.find(text=True)\n",
        "        year.append(rgx.sub('', s))\n",
        "    for ritem in row.findAll('td',{'class':'ratingColumn imdbRating'}):\n",
        "        for iget in ritem.findAll('strong'):\n",
        "            rating.append(iget.find(text=True))\n",
        "            ratingoutof.append(iget.get('title').split(' ', 4)[3])\n",
        "    for item in row.findAll('td',{'class':'titleColumn'}):\n",
        "        for href in item.findAll('a',href=True):\n",
        "            moviename.append(href.find(text=True))\n",
        "            cast.append(href.get('title'))\n",
        "            imdb = \"https://www.imdb.com/\" + href.get('href')\n",
        "            #print(href.get('href'))\n",
        "           # print(imdb)\n",
        "            try:\n",
        "                iresult = requests.get(imdb)\n",
        "                ic = iresult.content\n",
        "                #print(ic)\n",
        "                isoup = BeautifulSoup(ic)\n",
        "                description.append(isoup.find('span',{'class':'sc-16ede01-0 fMPjMP'}).find(text=True))\n",
        "                genre.append(isoup.find('div',{'class':'ipc-chip-list__scroller'}).find(text=True))\n",
        "                #movielength.append(rsoup.find('div',{'class':'meta-value'}).find(text=True).strip())\n",
        "            except requests.exceptions.ConnectionError:\n",
        "                description.append(\"\")\n",
        "                genre.append(\"\")\n",
        "                movielength.append(\"\")\n",
        "    sleep(.1)\n",
        "    f.value = i\n",
        "\n",
        "    # List to pandas series\n",
        "\n",
        "moviename = Series(moviename)\n",
        "cast = Series(cast)\n",
        "description = Series(description)\n",
        "rating = Series(rating)\n",
        "ratingoutof = Series(ratingoutof)\n",
        "year = Series(year)\n",
        "genre = Series(genre)\n"
      ],
      "metadata": {
        "colab": {
          "base_uri": "https://localhost:8080/",
          "height": 327,
          "referenced_widgets": [
            "3ad82a6f7cef4b69b9539ee01441ba51",
            "44cd98cb3019472cba3f56d5423fd1c5",
            "f6a9ef39b1ea4746bd660e5b378b7251"
          ]
        },
        "id": "MZKVcqv2xv6v",
        "outputId": "117269ca-8257-4f2f-df72-f6412756bb1f"
      },
      "execution_count": 6,
      "outputs": [
        {
          "output_type": "display_data",
          "data": {
            "text/plain": [
              "FloatProgress(value=0.0, max=250.0)"
            ],
            "application/vnd.jupyter.widget-view+json": {
              "version_major": 2,
              "version_minor": 0,
              "model_id": "3ad82a6f7cef4b69b9539ee01441ba51"
            }
          },
          "metadata": {}
        },
        {
          "output_type": "stream",
          "name": "stdout",
          "text": [
            "0      The Shawshank Redemption\n",
            "1                 The Godfather\n",
            "2               The Dark Knight\n",
            "3        The Godfather: Part II\n",
            "4                  12 Angry Men\n",
            "                 ...           \n",
            "245                    Jai Bhim\n",
            "246                     Aladdin\n",
            "247                      Gandhi\n",
            "248                    The Help\n",
            "249        Beauty and the Beast\n",
            "Length: 250, dtype: object\n"
          ]
        },
        {
          "output_type": "stream",
          "name": "stderr",
          "text": [
            "/usr/local/lib/python3.7/dist-packages/ipykernel_launcher.py:57: DeprecationWarning: The default dtype for empty Series will be 'object' instead of 'float64' in a future version. Specify a dtype explicitly to silence this warning.\n",
            "/usr/local/lib/python3.7/dist-packages/ipykernel_launcher.py:58: DeprecationWarning: The default dtype for empty Series will be 'object' instead of 'float64' in a future version. Specify a dtype explicitly to silence this warning.\n",
            "/usr/local/lib/python3.7/dist-packages/ipykernel_launcher.py:59: DeprecationWarning: The default dtype for empty Series will be 'object' instead of 'float64' in a future version. Specify a dtype explicitly to silence this warning.\n",
            "/usr/local/lib/python3.7/dist-packages/ipykernel_launcher.py:60: DeprecationWarning: The default dtype for empty Series will be 'object' instead of 'float64' in a future version. Specify a dtype explicitly to silence this warning.\n"
          ]
        }
      ]
    },
    {
      "cell_type": "code",
      "source": [
        "imdb_df = pd.concat([moviename,year,description,genre,cast,rating],axis=1)"
      ],
      "metadata": {
        "id": "lWSlGISk8EnR"
      },
      "execution_count": 11,
      "outputs": []
    },
    {
      "cell_type": "code",
      "source": [
        "imdb_df.columns = [\"\u0007moviename\",'year','description','genre','cast','imdb_rating']\n"
      ],
      "metadata": {
        "id": "vRcWKLXF8Lp3"
      },
      "execution_count": 16,
      "outputs": []
    },
    {
      "cell_type": "code",
      "source": [
        "imdb_df['rank'] = imdb_df.index + 1"
      ],
      "metadata": {
        "id": "mBs5tNHHVuzN"
      },
      "execution_count": 17,
      "outputs": []
    },
    {
      "cell_type": "code",
      "source": [
        "imdb_df.head()"
      ],
      "metadata": {
        "colab": {
          "base_uri": "https://localhost:8080/",
          "height": 206
        },
        "id": "eejrHVeh1pqH",
        "outputId": "5fdbbaaf-eaaa-4785-f995-7203ffd1d63b"
      },
      "execution_count": 19,
      "outputs": [
        {
          "output_type": "execute_result",
          "data": {
            "text/plain": [
              "                 \u0007moviename  year  \\\n",
              "0  The Shawshank Redemption  1994   \n",
              "1             The Godfather  1972   \n",
              "2           The Dark Knight  2008   \n",
              "3    The Godfather: Part II  1974   \n",
              "4              12 Angry Men  1957   \n",
              "\n",
              "                                         description   genre  \\\n",
              "0  Two imprisoned men bond over a number of years...   Drama   \n",
              "1  The aging patriarch of an organized crime dyna...   Crime   \n",
              "2  When the menace known as the Joker wreaks havo...  Action   \n",
              "3  The early life and career of Vito Corleone in ...   Crime   \n",
              "4  The jury in a New York City murder trial is fr...   Crime   \n",
              "\n",
              "                                                cast imdb_rating  rank  \n",
              "0  Frank Darabont (dir.), Tim Robbins, Morgan Fre...         9.2     1  \n",
              "1  Francis Ford Coppola (dir.), Marlon Brando, Al...         9.2     2  \n",
              "2  Christopher Nolan (dir.), Christian Bale, Heat...         9.0     3  \n",
              "3  Francis Ford Coppola (dir.), Al Pacino, Robert...         9.0     4  \n",
              "4      Sidney Lumet (dir.), Henry Fonda, Lee J. Cobb         8.9     5  "
            ],
            "text/html": [
              "\n",
              "  <div id=\"df-75e277a4-1ac3-4f89-af0f-345ea8710f17\">\n",
              "    <div class=\"colab-df-container\">\n",
              "      <div>\n",
              "<style scoped>\n",
              "    .dataframe tbody tr th:only-of-type {\n",
              "        vertical-align: middle;\n",
              "    }\n",
              "\n",
              "    .dataframe tbody tr th {\n",
              "        vertical-align: top;\n",
              "    }\n",
              "\n",
              "    .dataframe thead th {\n",
              "        text-align: right;\n",
              "    }\n",
              "</style>\n",
              "<table border=\"1\" class=\"dataframe\">\n",
              "  <thead>\n",
              "    <tr style=\"text-align: right;\">\n",
              "      <th></th>\n",
              "      <th>\u0007moviename</th>\n",
              "      <th>year</th>\n",
              "      <th>description</th>\n",
              "      <th>genre</th>\n",
              "      <th>cast</th>\n",
              "      <th>imdb_rating</th>\n",
              "      <th>rank</th>\n",
              "    </tr>\n",
              "  </thead>\n",
              "  <tbody>\n",
              "    <tr>\n",
              "      <th>0</th>\n",
              "      <td>The Shawshank Redemption</td>\n",
              "      <td>1994</td>\n",
              "      <td>Two imprisoned men bond over a number of years...</td>\n",
              "      <td>Drama</td>\n",
              "      <td>Frank Darabont (dir.), Tim Robbins, Morgan Fre...</td>\n",
              "      <td>9.2</td>\n",
              "      <td>1</td>\n",
              "    </tr>\n",
              "    <tr>\n",
              "      <th>1</th>\n",
              "      <td>The Godfather</td>\n",
              "      <td>1972</td>\n",
              "      <td>The aging patriarch of an organized crime dyna...</td>\n",
              "      <td>Crime</td>\n",
              "      <td>Francis Ford Coppola (dir.), Marlon Brando, Al...</td>\n",
              "      <td>9.2</td>\n",
              "      <td>2</td>\n",
              "    </tr>\n",
              "    <tr>\n",
              "      <th>2</th>\n",
              "      <td>The Dark Knight</td>\n",
              "      <td>2008</td>\n",
              "      <td>When the menace known as the Joker wreaks havo...</td>\n",
              "      <td>Action</td>\n",
              "      <td>Christopher Nolan (dir.), Christian Bale, Heat...</td>\n",
              "      <td>9.0</td>\n",
              "      <td>3</td>\n",
              "    </tr>\n",
              "    <tr>\n",
              "      <th>3</th>\n",
              "      <td>The Godfather: Part II</td>\n",
              "      <td>1974</td>\n",
              "      <td>The early life and career of Vito Corleone in ...</td>\n",
              "      <td>Crime</td>\n",
              "      <td>Francis Ford Coppola (dir.), Al Pacino, Robert...</td>\n",
              "      <td>9.0</td>\n",
              "      <td>4</td>\n",
              "    </tr>\n",
              "    <tr>\n",
              "      <th>4</th>\n",
              "      <td>12 Angry Men</td>\n",
              "      <td>1957</td>\n",
              "      <td>The jury in a New York City murder trial is fr...</td>\n",
              "      <td>Crime</td>\n",
              "      <td>Sidney Lumet (dir.), Henry Fonda, Lee J. Cobb</td>\n",
              "      <td>8.9</td>\n",
              "      <td>5</td>\n",
              "    </tr>\n",
              "  </tbody>\n",
              "</table>\n",
              "</div>\n",
              "      <button class=\"colab-df-convert\" onclick=\"convertToInteractive('df-75e277a4-1ac3-4f89-af0f-345ea8710f17')\"\n",
              "              title=\"Convert this dataframe to an interactive table.\"\n",
              "              style=\"display:none;\">\n",
              "        \n",
              "  <svg xmlns=\"http://www.w3.org/2000/svg\" height=\"24px\"viewBox=\"0 0 24 24\"\n",
              "       width=\"24px\">\n",
              "    <path d=\"M0 0h24v24H0V0z\" fill=\"none\"/>\n",
              "    <path d=\"M18.56 5.44l.94 2.06.94-2.06 2.06-.94-2.06-.94-.94-2.06-.94 2.06-2.06.94zm-11 1L8.5 8.5l.94-2.06 2.06-.94-2.06-.94L8.5 2.5l-.94 2.06-2.06.94zm10 10l.94 2.06.94-2.06 2.06-.94-2.06-.94-.94-2.06-.94 2.06-2.06.94z\"/><path d=\"M17.41 7.96l-1.37-1.37c-.4-.4-.92-.59-1.43-.59-.52 0-1.04.2-1.43.59L10.3 9.45l-7.72 7.72c-.78.78-.78 2.05 0 2.83L4 21.41c.39.39.9.59 1.41.59.51 0 1.02-.2 1.41-.59l7.78-7.78 2.81-2.81c.8-.78.8-2.07 0-2.86zM5.41 20L4 18.59l7.72-7.72 1.47 1.35L5.41 20z\"/>\n",
              "  </svg>\n",
              "      </button>\n",
              "      \n",
              "  <style>\n",
              "    .colab-df-container {\n",
              "      display:flex;\n",
              "      flex-wrap:wrap;\n",
              "      gap: 12px;\n",
              "    }\n",
              "\n",
              "    .colab-df-convert {\n",
              "      background-color: #E8F0FE;\n",
              "      border: none;\n",
              "      border-radius: 50%;\n",
              "      cursor: pointer;\n",
              "      display: none;\n",
              "      fill: #1967D2;\n",
              "      height: 32px;\n",
              "      padding: 0 0 0 0;\n",
              "      width: 32px;\n",
              "    }\n",
              "\n",
              "    .colab-df-convert:hover {\n",
              "      background-color: #E2EBFA;\n",
              "      box-shadow: 0px 1px 2px rgba(60, 64, 67, 0.3), 0px 1px 3px 1px rgba(60, 64, 67, 0.15);\n",
              "      fill: #174EA6;\n",
              "    }\n",
              "\n",
              "    [theme=dark] .colab-df-convert {\n",
              "      background-color: #3B4455;\n",
              "      fill: #D2E3FC;\n",
              "    }\n",
              "\n",
              "    [theme=dark] .colab-df-convert:hover {\n",
              "      background-color: #434B5C;\n",
              "      box-shadow: 0px 1px 3px 1px rgba(0, 0, 0, 0.15);\n",
              "      filter: drop-shadow(0px 1px 2px rgba(0, 0, 0, 0.3));\n",
              "      fill: #FFFFFF;\n",
              "    }\n",
              "  </style>\n",
              "\n",
              "      <script>\n",
              "        const buttonEl =\n",
              "          document.querySelector('#df-75e277a4-1ac3-4f89-af0f-345ea8710f17 button.colab-df-convert');\n",
              "        buttonEl.style.display =\n",
              "          google.colab.kernel.accessAllowed ? 'block' : 'none';\n",
              "\n",
              "        async function convertToInteractive(key) {\n",
              "          const element = document.querySelector('#df-75e277a4-1ac3-4f89-af0f-345ea8710f17');\n",
              "          const dataTable =\n",
              "            await google.colab.kernel.invokeFunction('convertToInteractive',\n",
              "                                                     [key], {});\n",
              "          if (!dataTable) return;\n",
              "\n",
              "          const docLinkHtml = 'Like what you see? Visit the ' +\n",
              "            '<a target=\"_blank\" href=https://colab.research.google.com/notebooks/data_table.ipynb>data table notebook</a>'\n",
              "            + ' to learn more about interactive tables.';\n",
              "          element.innerHTML = '';\n",
              "          dataTable['output_type'] = 'display_data';\n",
              "          await google.colab.output.renderOutput(dataTable, element);\n",
              "          const docLink = document.createElement('div');\n",
              "          docLink.innerHTML = docLinkHtml;\n",
              "          element.appendChild(docLink);\n",
              "        }\n",
              "      </script>\n",
              "    </div>\n",
              "  </div>\n",
              "  "
            ]
          },
          "metadata": {},
          "execution_count": 19
        }
      ]
    },
    {
      "cell_type": "code",
      "source": [
        "imdb_df.to_csv(\"imdbdataexport.csv\")"
      ],
      "metadata": {
        "id": "M2aRXdV4WVl8"
      },
      "execution_count": 20,
      "outputs": []
    }
  ]
}
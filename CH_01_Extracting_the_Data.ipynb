{
  "nbformat": 4,
  "nbformat_minor": 0,
  "metadata": {
    "colab": {
      "name": "CH_01_Extracting_the_Data.ipynb",
      "provenance": [],
      "authorship_tag": "ABX9TyOE/7WbQzd47kBmxs/MyxYR",
      "include_colab_link": true
    },
    "kernelspec": {
      "name": "python3",
      "display_name": "Python 3"
    },
    "language_info": {
      "name": "python"
    }
  },
  "cells": [
    {
      "cell_type": "markdown",
      "metadata": {
        "id": "view-in-github",
        "colab_type": "text"
      },
      "source": [
        "<a href=\"https://colab.research.google.com/github/santossousa/Natural-Language-Processing-Recipes_-Unlocking-Text-Data-with-Machine-Learning-and-Deep-Learning-usi/blob/main/CH_01_Extracting_the_Data.ipynb\" target=\"_parent\"><img src=\"https://colab.research.google.com/assets/colab-badge.svg\" alt=\"Open In Colab\"/></a>"
      ]
    },
    {
      "cell_type": "markdown",
      "source": [
        "#\u00071-1. Collecting Data\n"
      ],
      "metadata": {
        "id": "3H1AHdi5sgCJ"
      }
    },
    {
      "cell_type": "code",
      "execution_count": null,
      "metadata": {
        "colab": {
          "base_uri": "https://localhost:8080/"
        },
        "id": "91PYs_MmsDuK",
        "outputId": "c3fe1410-8110-4fcd-96ac-3b84fbfa21eb"
      },
      "outputs": [
        {
          "output_type": "stream",
          "name": "stdout",
          "text": [
            "Looking in indexes: https://pypi.org/simple, https://us-python.pkg.dev/colab-wheels/public/simple/\n",
            "Requirement already satisfied: tweepy in /usr/local/lib/python3.7/dist-packages (3.10.0)\n",
            "Requirement already satisfied: requests[socks]>=2.11.1 in /usr/local/lib/python3.7/dist-packages (from tweepy) (2.23.0)\n",
            "Requirement already satisfied: six>=1.10.0 in /usr/local/lib/python3.7/dist-packages (from tweepy) (1.15.0)\n",
            "Requirement already satisfied: requests-oauthlib>=0.7.0 in /usr/local/lib/python3.7/dist-packages (from tweepy) (1.3.1)\n",
            "Requirement already satisfied: oauthlib>=3.0.0 in /usr/local/lib/python3.7/dist-packages (from requests-oauthlib>=0.7.0->tweepy) (3.2.0)\n",
            "Requirement already satisfied: certifi>=2017.4.17 in /usr/local/lib/python3.7/dist-packages (from requests[socks]>=2.11.1->tweepy) (2022.6.15)\n",
            "Requirement already satisfied: urllib3!=1.25.0,!=1.25.1,<1.26,>=1.21.1 in /usr/local/lib/python3.7/dist-packages (from requests[socks]>=2.11.1->tweepy) (1.24.3)\n",
            "Requirement already satisfied: idna<3,>=2.5 in /usr/local/lib/python3.7/dist-packages (from requests[socks]>=2.11.1->tweepy) (2.10)\n",
            "Requirement already satisfied: chardet<4,>=3.0.2 in /usr/local/lib/python3.7/dist-packages (from requests[socks]>=2.11.1->tweepy) (3.0.4)\n",
            "Requirement already satisfied: PySocks!=1.5.7,>=1.5.6 in /usr/local/lib/python3.7/dist-packages (from requests[socks]>=2.11.1->tweepy) (1.7.1)\n"
          ]
        }
      ],
      "source": [
        "!pip install tweepy"
      ]
    },
    {
      "cell_type": "code",
      "source": [
        "import numpy as np\n",
        "import tweepy\n",
        "import json\n",
        "import pandas as pd\n",
        "from tweepy import OAuthHandler"
      ],
      "metadata": {
        "id": "AnErSLDUsW7j"
      },
      "execution_count": null,
      "outputs": []
    },
    {
      "cell_type": "code",
      "source": [
        "consumer_key = \"2PM9FdmZmpu9OpSV9TkW8MNye\"\n",
        "consumer_secret = \"PCv9Mk5rbAjS3mLbahiE5krGhlDUWS7T11626RZLRviIa6ukTW\"\n",
        "access_token = \"1212540458083049472-MpzsTXUS9Nk3yDYj9m08XnZBrKQvrT\"\n",
        "access_token_secret = \"VY3pTE15xKXQr9H7yrDeAcp5mWQHwOWkl8j9nQhj2Bvux\""
      ],
      "metadata": {
        "id": "fGH7RKJXsAqm"
      },
      "execution_count": null,
      "outputs": []
    },
    {
      "cell_type": "code",
      "source": [
        "auth = tweepy.OAuthHandler(consumer_key, consumer_secret)\n",
        "auth.set_access_token(access_token, access_token_secret)\n",
        "api = tweepy.API(auth)"
      ],
      "metadata": {
        "id": "ACToNXi4tJkJ"
      },
      "execution_count": null,
      "outputs": []
    },
    {
      "cell_type": "code",
      "source": [
        "query =\"fake news\""
      ],
      "metadata": {
        "id": "8QHwWBY_tM66"
      },
      "execution_count": null,
      "outputs": []
    },
    {
      "cell_type": "code",
      "source": [
        "Tweets = api.search(query, count = 10,lang='en',\n",
        "exclude='retweets',tweet_mode='extended')"
      ],
      "metadata": {
        "id": "n64r0MLctQgN"
      },
      "execution_count": null,
      "outputs": []
    },
    {
      "cell_type": "markdown",
      "source": [
        "#1-2. Collecting Data from PDFs"
      ],
      "metadata": {
        "id": "g27CuCv_4c_Y"
      }
    },
    {
      "cell_type": "code",
      "source": [
        "!pip install PyPDF2"
      ],
      "metadata": {
        "colab": {
          "base_uri": "https://localhost:8080/"
        },
        "id": "7lxlK73F4UJM",
        "outputId": "76a9f001-f493-4e2b-8bbe-9fe5e0b1e81d"
      },
      "execution_count": null,
      "outputs": [
        {
          "output_type": "stream",
          "name": "stdout",
          "text": [
            "Looking in indexes: https://pypi.org/simple, https://us-python.pkg.dev/colab-wheels/public/simple/\n",
            "Collecting PyPDF2\n",
            "  Downloading PyPDF2-2.4.2-py3-none-any.whl (199 kB)\n",
            "\u001b[K     |████████████████████████████████| 199 kB 6.9 MB/s \n",
            "\u001b[?25hRequirement already satisfied: typing-extensions in /usr/local/lib/python3.7/dist-packages (from PyPDF2) (4.1.1)\n",
            "Installing collected packages: PyPDF2\n",
            "Successfully installed PyPDF2-2.4.2\n"
          ]
        }
      ]
    },
    {
      "cell_type": "code",
      "source": [
        "import PyPDF2\n",
        "from PyPDF2 import PdfFileReader"
      ],
      "metadata": {
        "id": "WZ5dvokq4pGe"
      },
      "execution_count": null,
      "outputs": []
    },
    {
      "cell_type": "code",
      "source": [
        "pdf = open(\"/content/62A6BF21.pdf\",\"rb\")"
      ],
      "metadata": {
        "id": "QC_pr_XN4udC"
      },
      "execution_count": null,
      "outputs": []
    },
    {
      "cell_type": "code",
      "source": [
        "pdf_reader = PyPDF2.PdfFileReader(pdf)"
      ],
      "metadata": {
        "id": "qNns2rnl5FPM"
      },
      "execution_count": null,
      "outputs": []
    },
    {
      "cell_type": "code",
      "source": [
        "print(pdf_reader.numPages)"
      ],
      "metadata": {
        "colab": {
          "base_uri": "https://localhost:8080/"
        },
        "id": "TsNBgfHi5IDc",
        "outputId": "1d75be9d-33c1-4ead-e4e4-f6d57b72dd8e"
      },
      "execution_count": null,
      "outputs": [
        {
          "output_type": "stream",
          "name": "stdout",
          "text": [
            "1\n"
          ]
        }
      ]
    },
    {
      "cell_type": "code",
      "source": [
        "page = pdf_reader.getPage(0)"
      ],
      "metadata": {
        "id": "vWafFYIu5KSW"
      },
      "execution_count": null,
      "outputs": []
    },
    {
      "cell_type": "code",
      "source": [
        "print(page.extractText())"
      ],
      "metadata": {
        "colab": {
          "base_uri": "https://localhost:8080/"
        },
        "id": "tZg2goqZ5NTU",
        "outputId": "afa53679-eade-435c-9d50-b1f946d110da"
      },
      "execution_count": null,
      "outputs": [
        {
          "output_type": "stream",
          "name": "stdout",
          "text": [
            " 62A6BF21\n",
            "\n",
            "\n",
            "\n",
            "Certificamos que\n",
            "\n",
            "\n",
            "\n",
            "\n",
            "\n",
            "Fábio J D S Sousa\n",
            "\n",
            "\n",
            "\n",
            "\n",
            "\n",
            "em 02 de Outubro de 2021, concluiu o curso\n",
            "\n",
            "\n",
            "\n",
            "\n",
            "\n",
            "\n",
            "Boas-vindas ao Bootcamp Cognizant Cloud Data\n",
            "\n",
            "Engineer\n",
            "\n",
            "\n",
            "\n",
            "\n",
            "\n",
            "com carga horária de 1 hora.\n",
            "\n",
            "\n",
            "\n"
          ]
        }
      ]
    },
    {
      "cell_type": "code",
      "source": [
        "pdf.close()"
      ],
      "metadata": {
        "id": "pRyQFH305Uvu"
      },
      "execution_count": null,
      "outputs": []
    },
    {
      "cell_type": "markdown",
      "source": [
        "#1-3. Collecting Data from Word Files"
      ],
      "metadata": {
        "id": "RYRkRtpE5br9"
      }
    },
    {
      "cell_type": "code",
      "source": [
        "!pip install python-docx"
      ],
      "metadata": {
        "colab": {
          "base_uri": "https://localhost:8080/"
        },
        "id": "eXAZDAHo5bSJ",
        "outputId": "9fa72316-61ef-4d1d-d7cf-e995fd17e3f3"
      },
      "execution_count": null,
      "outputs": [
        {
          "output_type": "stream",
          "name": "stdout",
          "text": [
            "Looking in indexes: https://pypi.org/simple, https://us-python.pkg.dev/colab-wheels/public/simple/\n",
            "Collecting python-docx\n",
            "  Downloading python-docx-0.8.11.tar.gz (5.6 MB)\n",
            "\u001b[K     |████████████████████████████████| 5.6 MB 6.9 MB/s \n",
            "\u001b[?25hRequirement already satisfied: lxml>=2.3.2 in /usr/local/lib/python3.7/dist-packages (from python-docx) (4.2.6)\n",
            "Building wheels for collected packages: python-docx\n",
            "  Building wheel for python-docx (setup.py) ... \u001b[?25l\u001b[?25hdone\n",
            "  Created wheel for python-docx: filename=python_docx-0.8.11-py3-none-any.whl size=184507 sha256=59cf31b0812dfa43eb532aa03d4c0995bfb895410ae2ae6e9b67090a37c0a173\n",
            "  Stored in directory: /root/.cache/pip/wheels/f6/6f/b9/d798122a8b55b74ad30b5f52b01482169b445fbb84a11797a6\n",
            "Successfully built python-docx\n",
            "Installing collected packages: python-docx\n",
            "Successfully installed python-docx-0.8.11\n"
          ]
        }
      ]
    },
    {
      "cell_type": "code",
      "source": [
        "from docx import Document"
      ],
      "metadata": {
        "id": "Cd4d6Wo75nsT"
      },
      "execution_count": null,
      "outputs": []
    },
    {
      "cell_type": "code",
      "source": [
        "doc = open(\"/content/documento.docx\",\"rb\")"
      ],
      "metadata": {
        "id": "xb7JL83YAJJ0"
      },
      "execution_count": null,
      "outputs": []
    },
    {
      "cell_type": "code",
      "source": [
        "document = Document(doc)"
      ],
      "metadata": {
        "id": "IDpvbFZhAhUG"
      },
      "execution_count": null,
      "outputs": []
    },
    {
      "cell_type": "code",
      "source": [
        "docu=\"\"\n",
        "for para in document.paragraphs:\n",
        "       docu += para.text"
      ],
      "metadata": {
        "id": "29DdC695Cv-H"
      },
      "execution_count": null,
      "outputs": []
    },
    {
      "cell_type": "code",
      "source": [
        "print(docu)"
      ],
      "metadata": {
        "colab": {
          "base_uri": "https://localhost:8080/"
        },
        "id": "JBBv_ECTCzp-",
        "outputId": "29377703-c1ab-46d0-f33b-9ea7af5eb899"
      },
      "execution_count": null,
      "outputs": [
        {
          "output_type": "stream",
          "name": "stdout",
          "text": [
            "Documento vazio!\n"
          ]
        }
      ]
    },
    {
      "cell_type": "markdown",
      "source": [
        "#1-4. Collecting Data from JSON"
      ],
      "metadata": {
        "id": "LA9RYvM5DWKB"
      }
    },
    {
      "cell_type": "code",
      "source": [
        "import requests\n",
        "import json"
      ],
      "metadata": {
        "id": "_wnmMzYWDiWr"
      },
      "execution_count": null,
      "outputs": []
    },
    {
      "cell_type": "code",
      "source": [
        "r = requests.get(\"https://quotes.rest/qod.json\")\n",
        "res = r.json()\n",
        "print(json.dumps(res, indent = 4))"
      ],
      "metadata": {
        "colab": {
          "base_uri": "https://localhost:8080/"
        },
        "id": "g-GmDC76Dkzp",
        "outputId": "7acad7e0-a34f-4771-8334-034ccebbe457"
      },
      "execution_count": null,
      "outputs": [
        {
          "output_type": "stream",
          "name": "stdout",
          "text": [
            "{\n",
            "    \"success\": {\n",
            "        \"total\": 1\n",
            "    },\n",
            "    \"contents\": {\n",
            "        \"quotes\": [\n",
            "            {\n",
            "                \"quote\": \"Ignition (n): The motivational process that occurs when your identity becomes linked to a long-term vision of your future. Triggers significant amounts of unconscious energy; usually marked by the realization: That is who I want to be.\",\n",
            "                \"length\": \"235\",\n",
            "                \"author\": \"\\u200aDaniel Coyle\",\n",
            "                \"tags\": [\n",
            "                    \"energy\",\n",
            "                    \"inspire\",\n",
            "                    \"motivation\"\n",
            "                ],\n",
            "                \"category\": \"inspire\",\n",
            "                \"language\": \"en\",\n",
            "                \"date\": \"2022-07-07\",\n",
            "                \"permalink\": \"https://theysaidso.com/quote/daniel-coyle-ignition-n-the-motivational-process-that-occurs-when-your-identity\",\n",
            "                \"id\": \"c_TJ3uNqflXI53XfKruMcweF\",\n",
            "                \"background\": \"https://theysaidso.com/img/qod/qod-inspire.jpg\",\n",
            "                \"title\": \"Inspiring Quote of the day\"\n",
            "            }\n",
            "        ]\n",
            "    },\n",
            "    \"baseurl\": \"https://theysaidso.com\",\n",
            "    \"copyright\": {\n",
            "        \"year\": 2024,\n",
            "        \"url\": \"https://theysaidso.com\"\n",
            "    }\n",
            "}\n"
          ]
        }
      ]
    },
    {
      "cell_type": "code",
      "source": [
        "q = res['contents']['quotes'][0]\n",
        "q"
      ],
      "metadata": {
        "colab": {
          "base_uri": "https://localhost:8080/"
        },
        "id": "fVYKpWfoD6mb",
        "outputId": "230dcb40-7be7-4228-9d5a-5d9e028fe026"
      },
      "execution_count": null,
      "outputs": [
        {
          "output_type": "execute_result",
          "data": {
            "text/plain": [
              "{'author': '\\u200aDaniel Coyle',\n",
              " 'background': 'https://theysaidso.com/img/qod/qod-inspire.jpg',\n",
              " 'category': 'inspire',\n",
              " 'date': '2022-07-07',\n",
              " 'id': 'c_TJ3uNqflXI53XfKruMcweF',\n",
              " 'language': 'en',\n",
              " 'length': '235',\n",
              " 'permalink': 'https://theysaidso.com/quote/daniel-coyle-ignition-n-the-motivational-process-that-occurs-when-your-identity',\n",
              " 'quote': 'Ignition (n): The motivational process that occurs when your identity becomes linked to a long-term vision of your future. Triggers significant amounts of unconscious energy; usually marked by the realization: That is who I want to be.',\n",
              " 'tags': ['energy', 'inspire', 'motivation'],\n",
              " 'title': 'Inspiring Quote of the day'}"
            ]
          },
          "metadata": {},
          "execution_count": 48
        }
      ]
    },
    {
      "cell_type": "code",
      "source": [
        "print(q['quote'], '\\n--', q['author'])"
      ],
      "metadata": {
        "colab": {
          "base_uri": "https://localhost:8080/"
        },
        "id": "7uz5vv72EAsM",
        "outputId": "becc2d29-94ee-4547-e1a4-72c9aaedd774"
      },
      "execution_count": null,
      "outputs": [
        {
          "output_type": "stream",
          "name": "stdout",
          "text": [
            "Ignition (n): The motivational process that occurs when your identity becomes linked to a long-term vision of your future. Triggers significant amounts of unconscious energy; usually marked by the realization: That is who I want to be. \n",
            "--  Daniel Coyle\n"
          ]
        }
      ]
    },
    {
      "cell_type": "markdown",
      "source": [
        "# 1-5. Collecting Data from HTML"
      ],
      "metadata": {
        "id": "XXMMRJNFEbDz"
      }
    },
    {
      "cell_type": "code",
      "source": [
        "!pip install bs4"
      ],
      "metadata": {
        "colab": {
          "base_uri": "https://localhost:8080/"
        },
        "id": "Rs-RUfKkEiDj",
        "outputId": "10659782-03b0-4cda-dc7f-40013b0ed19a"
      },
      "execution_count": null,
      "outputs": [
        {
          "output_type": "stream",
          "name": "stdout",
          "text": [
            "Looking in indexes: https://pypi.org/simple, https://us-python.pkg.dev/colab-wheels/public/simple/\n",
            "Requirement already satisfied: bs4 in /usr/local/lib/python3.7/dist-packages (0.0.1)\n",
            "Requirement already satisfied: beautifulsoup4 in /usr/local/lib/python3.7/dist-packages (from bs4) (4.6.3)\n"
          ]
        }
      ]
    },
    {
      "cell_type": "code",
      "source": [
        "import urllib.request as urllib2\n",
        "from bs4 import BeautifulSoup"
      ],
      "metadata": {
        "id": "wTl-PRLfEll2"
      },
      "execution_count": null,
      "outputs": []
    },
    {
      "cell_type": "code",
      "source": [
        "response = urllib2.urlopen('https://en.wikipedia.org/wiki/Natural_language_processing')\n",
        "html_doc = response.read()"
      ],
      "metadata": {
        "id": "jqlE071nEpFl"
      },
      "execution_count": null,
      "outputs": []
    },
    {
      "cell_type": "code",
      "source": [
        "soup = BeautifulSoup(html_doc, 'html.parser')\n",
        "# Formating the parsed html file\n",
        "strhtm = soup.prettify()\n",
        "# Print few lines\n",
        "print (strhtm[:1000])"
      ],
      "metadata": {
        "colab": {
          "base_uri": "https://localhost:8080/"
        },
        "id": "YRtO73aeEwex",
        "outputId": "20ef95c8-8361-4334-c117-202abcc00860"
      },
      "execution_count": null,
      "outputs": [
        {
          "output_type": "stream",
          "name": "stdout",
          "text": [
            "<!DOCTYPE html>\n",
            "<html class=\"client-nojs\" dir=\"ltr\" lang=\"en\">\n",
            " <head>\n",
            "  <meta charset=\"utf-8\"/>\n",
            "  <title>\n",
            "   Natural language processing - Wikipedia\n",
            "  </title>\n",
            "  <script>\n",
            "   document.documentElement.className=\"client-js\";RLCONF={\"wgBreakFrames\":false,\"wgSeparatorTransformTable\":[\"\",\"\"],\"wgDigitTransformTable\":[\"\",\"\"],\"wgDefaultDateFormat\":\"dmy\",\"wgMonthNames\":[\"\",\"January\",\"February\",\"March\",\"April\",\"May\",\"June\",\"July\",\"August\",\"September\",\"October\",\"November\",\"December\"],\"wgRequestId\":\"be40786e-790e-40be-aeea-6fe2af6ccacb\",\"wgCSPNonce\":false,\"wgCanonicalNamespace\":\"\",\"wgCanonicalSpecialPageName\":false,\"wgNamespaceNumber\":0,\"wgPageName\":\"Natural_language_processing\",\"wgTitle\":\"Natural language processing\",\"wgCurRevisionId\":1093868703,\"wgRevisionId\":1093868703,\"wgArticleId\":21652,\"wgIsArticle\":true,\"wgIsRedirect\":false,\"wgAction\":\"view\",\"wgUserName\":null,\"wgUserGroups\":[\"*\"],\"wgCategories\":[\"All accuracy disputes\",\"Accuracy disputes from December 2013\",\"CS1 maint: url-status\",\"CS1 main\n"
          ]
        }
      ]
    },
    {
      "cell_type": "code",
      "source": [
        "print(soup.title)\n",
        "print(soup.title.string)\n",
        "print(soup.a.string)\n",
        "print(soup.b.string)"
      ],
      "metadata": {
        "colab": {
          "base_uri": "https://localhost:8080/"
        },
        "id": "8NC1PPl_E0dt",
        "outputId": "8bb8c6d4-9936-4b9a-b935-e03a996789c8"
      },
      "execution_count": null,
      "outputs": [
        {
          "output_type": "stream",
          "name": "stdout",
          "text": [
            "<title>Natural language processing - Wikipedia</title>\n",
            "Natural language processing - Wikipedia\n",
            "None\n",
            "Natural language processing\n"
          ]
        }
      ]
    },
    {
      "cell_type": "code",
      "source": [
        "for x in soup.find_all('a'): print(x.string)"
      ],
      "metadata": {
        "colab": {
          "base_uri": "https://localhost:8080/"
        },
        "id": "DAStGN-ME5qP",
        "outputId": "87f4b6c6-b2c7-4433-fd67-675642ae31b8"
      },
      "execution_count": null,
      "outputs": [
        {
          "output_type": "stream",
          "name": "stdout",
          "text": [
            "None\n",
            "Jump to navigation\n",
            "Jump to search\n",
            "Language processing in the brain\n",
            "None\n",
            "None\n",
            "automated online assistant\n",
            "customer service\n",
            "[1]\n",
            "linguistics\n",
            "computer science\n",
            "artificial intelligence\n",
            "natural language\n",
            "speech recognition\n",
            "natural-language understanding\n",
            "natural-language generation\n",
            "None\n",
            "None\n",
            "None\n",
            "None\n",
            "None\n",
            "None\n",
            "None\n",
            "None\n",
            "None\n",
            "None\n",
            "None\n",
            "None\n",
            "None\n",
            "None\n",
            "None\n",
            "None\n",
            "None\n",
            "None\n",
            "None\n",
            "None\n",
            "None\n",
            "edit\n",
            "History of natural language processing\n",
            "Alan Turing\n",
            "Computing Machinery and Intelligence\n",
            "Turing test\n",
            "edit\n",
            "John Searle\n",
            "Chinese room\n",
            "Georgetown experiment\n",
            "automatic translation\n",
            "[2]\n",
            "ALPAC report\n",
            "statistical machine translation\n",
            "SHRDLU\n",
            "blocks worlds\n",
            "ELIZA\n",
            "Rogerian psychotherapist\n",
            "Joseph Weizenbaum\n",
            "ontologies\n",
            "chatterbots\n",
            "PARRY\n",
            "HPSG\n",
            "generative grammar\n",
            "[3]\n",
            "Lesk algorithm\n",
            "[4]\n",
            "Rhetorical Structure Theory\n",
            "Racter\n",
            "Jabberwacky\n",
            "[5]\n",
            "edit\n",
            "machine learning\n",
            "Moore's law\n",
            "Chomskyan\n",
            "transformational grammar\n",
            "corpus linguistics\n",
            "[6]\n",
            "machine translation\n",
            "textual corpora\n",
            "Parliament of Canada\n",
            "European Union\n",
            "unsupervised\n",
            "semi-supervised learning\n",
            "supervised learning\n",
            "World Wide Web\n",
            "time complexity\n",
            "edit\n",
            "representation learning\n",
            "deep neural network\n",
            "[7]\n",
            "[8]\n",
            "language modeling\n",
            "[9]\n",
            "[10]\n",
            "[11]\n",
            "in medicine and healthcare\n",
            "electronic health records\n",
            "[12]\n",
            "edit\n",
            "[13]\n",
            "[14]\n",
            "stemming\n",
            "machine-learning\n",
            "Apertium\n",
            "tokenization\n",
            "knowledge extraction\n",
            "edit\n",
            "[15]\n",
            "[16]\n",
            "statistical inference\n",
            "corpora\n",
            "statistical models\n",
            "probabilistic\n",
            "real-valued\n",
            "embeddings\n",
            "[17]\n",
            "[18]\n",
            "decision trees\n",
            "part-of-speech tagging\n",
            "hidden Markov models\n",
            "statistical models\n",
            "probabilistic\n",
            "real-valued\n",
            "cache language models\n",
            "speech recognition\n",
            "edit\n",
            "Artificial neural network\n",
            "[19]\n",
            "neural networks\n",
            "word embeddings\n",
            "neural machine translation\n",
            "sequence-to-sequence\n",
            "statistical machine translation\n",
            "edit\n",
            "edit\n",
            "Optical character recognition\n",
            "Speech recognition\n",
            "text to speech\n",
            "AI-complete\n",
            "natural speech\n",
            "speech segmentation\n",
            "coarticulation\n",
            "analog signal\n",
            "Speech segmentation\n",
            "speech recognition\n",
            "Text-to-speech\n",
            "[20]\n",
            "Word segmentation\n",
            "Tokenization\n",
            "English\n",
            "Chinese\n",
            "Japanese\n",
            "Thai\n",
            "vocabulary\n",
            "morphology\n",
            "bag of words\n",
            "edit\n",
            "Lemmatization\n",
            "[21]\n",
            "Morphological segmentation\n",
            "morphemes\n",
            "morphology\n",
            "English\n",
            "inflectional morphology\n",
            "Turkish\n",
            "Meitei\n",
            "[22]\n",
            "agglutinated\n",
            "Part-of-speech tagging\n",
            "part of speech\n",
            "parts of speech\n",
            "noun\n",
            "verb\n",
            "noun\n",
            "verb\n",
            "adjective\n",
            "Stemming\n",
            "edit\n",
            "Grammar induction\n",
            "[23]\n",
            "formal grammar\n",
            "Sentence breaking\n",
            "sentence boundary disambiguation\n",
            "periods\n",
            "punctuation marks\n",
            "abbreviations\n",
            "Parsing\n",
            "parse tree\n",
            "grammar\n",
            "natural languages\n",
            "ambiguous\n",
            "probabilistic context-free grammar\n",
            "stochastic grammar\n",
            "edit\n",
            "Lexical semantics\n",
            "Distributional semantics\n",
            "Named entity recognition\n",
            "capitalization\n",
            "named entity\n",
            "Chinese\n",
            "Arabic\n",
            "German\n",
            "nouns\n",
            "French\n",
            "Spanish\n",
            "adjectives\n",
            "Sentiment analysis\n",
            "Multimodal sentiment analysis\n",
            "Terminology extraction\n",
            "Word-sense disambiguation\n",
            "meaning\n",
            "WordNet\n",
            "Entity linking\n",
            "named entities\n",
            "edit\n",
            "Relationship extraction\n",
            "Semantic parsing\n",
            "AMR parsing\n",
            "DRT parsing\n",
            "Natural language understanding\n",
            "Semantic role labelling\n",
            "frames\n",
            "semantic roles\n",
            "edit\n",
            "Coreference resolution\n",
            "Anaphora resolution\n",
            "pronouns\n",
            "referring expressions\n",
            "Discourse analysis\n",
            "discourse\n",
            "speech acts\n",
            "frames\n",
            "Semantic role labelling\n",
            "pro-drop languages\n",
            "Recognizing textual entailment\n",
            "[24]\n",
            "Topic segmentation\n",
            "Argument mining\n",
            "natural language\n",
            "[25]\n",
            "argument scheme\n",
            "[26]\n",
            "[27]\n",
            "edit\n",
            "Automatic summarization\n",
            "[28]\n",
            "1 the Road\n",
            "language models\n",
            "[29]\n",
            "Dialogue management\n",
            "Document AI\n",
            "[30]\n",
            "[31]\n",
            "[32]\n",
            "[33]\n",
            "GPT-2\n",
            "Machine translation\n",
            "AI-complete\n",
            "Natural-language generation\n",
            "Natural-language understanding\n",
            "first-order logic\n",
            "computer\n",
            "closed-world assumption\n",
            "open-world assumption\n",
            "[34]\n",
            "Question answering\n",
            "[35]\n",
            "3D model\n",
            "[36]\n",
            "[37]\n",
            "edit\n",
            "[38]\n",
            "edit\n",
            "Cognition\n",
            "[39]\n",
            "Cognitive science\n",
            "[40]\n",
            "Cognitive linguistics\n",
            "[41]\n",
            "symbolic NLP\n",
            "George Lakoff\n",
            "cognitive science\n",
            "cognitive linguistics\n",
            "[42]\n",
            "conceptual metaphor\n",
            "[43]\n",
            "probabilistic context-free grammar\n",
            "US patent 9269353\n",
            "[44]\n",
            "[45]\n",
            "[46]\n",
            "ACT-R\n",
            "[47]\n",
            "ACL\n",
            "explainability\n",
            "[48]\n",
            "multimodal\n",
            "[49]\n",
            "edit\n",
            "1 the Road\n",
            "Automated essay scoring\n",
            "Biomedical text mining\n",
            "Compound term processing\n",
            "Computational linguistics\n",
            "Computer-assisted reviewing\n",
            "Controlled natural language\n",
            "Deep learning\n",
            "Deep linguistic processing\n",
            "Distributional semantics\n",
            "Foreign language reading aid\n",
            "Foreign language writing aid\n",
            "Information extraction\n",
            "Information retrieval\n",
            "Language and Communication Technologies\n",
            "Language technology\n",
            "Latent semantic indexing\n",
            "Native-language identification\n",
            "Natural-language programming\n",
            "Natural-language understanding\n",
            "Natural-language search\n",
            "Outline of natural language processing\n",
            "Query expansion\n",
            "Query understanding\n",
            "Reification (linguistics)\n",
            "Speech processing\n",
            "Spoken dialogue systems\n",
            "Text-proofing\n",
            "Text simplification\n",
            "Transformer (machine learning model)\n",
            "Truecasing\n",
            "Question answering\n",
            "Word2vec\n",
            "edit\n",
            "^\n",
            "doi\n",
            "10.1145/1643823.1643908\n",
            "ISBN\n",
            "9781605588292\n",
            "^\n",
            "\"The history of machine translation in a nutshell\"\n",
            "self-published source\n",
            "^\n",
            "Koskenniemi, Kimmo\n",
            "Two-level morphology: A general computational model of word-form recognition and production\n",
            "University of Helsinki\n",
            "^\n",
            "Control of Inference: Role of Some Aspects of Discourse Structure-Centering\n",
            "^\n",
            "doi\n",
            "10.1109/PROC.1986.13580\n",
            "ISSN\n",
            "1558-2256\n",
            "S2CID\n",
            "30688575\n",
            "^\n",
            "corner cases\n",
            "pathological\n",
            "thought experiments\n",
            "corpus linguistics\n",
            "corpora\n",
            "poverty of the stimulus\n",
            "^\n",
            "arXiv\n",
            "1807.10854\n",
            "doi\n",
            "10.1613/jair.4992\n",
            "S2CID\n",
            "8273530\n",
            "^\n",
            "Deep Learning\n",
            "^\n",
            "arXiv\n",
            "1602.02410\n",
            "Bibcode\n",
            "2016arXiv160202410J\n",
            "^\n",
            "\"Parsing as Language Modeling\"\n",
            "the original\n",
            "^\n",
            "\"Grammar as a Foreign Language\"\n",
            "arXiv\n",
            "1412.7449\n",
            "Bibcode\n",
            "2014arXiv1412.7449V\n",
            "^\n",
            "\"Using Natural Language Processing to Measure and Improve Quality of Diabetes Care: A Systematic Review\"\n",
            "doi\n",
            "10.1177/19322968211000831\n",
            "ISSN\n",
            "1932-2968\n",
            "PMC\n",
            "8120048\n",
            "PMID\n",
            "33736486\n",
            "^\n",
            "Procedures as a Representation for Data in a Computer Program for Understanding Natural Language\n",
            "^\n",
            "ISBN\n",
            "0-470-99033-3\n",
            "^\n",
            "Mark Johnson. How the statistical revolution changes (computational) linguistics.\n",
            "^\n",
            "Philip Resnik. Four revolutions.\n",
            "^\n",
            "\"Investigating complex-valued representation in NLP\"\n",
            "cite web\n",
            "link\n",
            "^\n",
            "arXiv\n",
            "1705.09792\n",
            "cs.NE\n",
            "^\n",
            "\"Deep Learning For NLP-ACL 2012 Tutorial\"\n",
            "^\n",
            "CiteSeerX\n",
            "10.1.1.668.869\n",
            "doi\n",
            "10.1007/978-3-642-29364-1_2\n",
            "ISBN\n",
            "9783642293634\n",
            "^\n",
            "\"What is Natural Language Processing? Intro to NLP in Machine Learning\"\n",
            "^\n",
            "\"Manipuri Morpheme Identification\"\n",
            "cite journal\n",
            "link\n",
            "^\n",
            "\"Natural language grammar induction using a constituent-context model\"\n",
            "^\n",
            "https://tac.nist.gov//2011/RTE/\n",
            "^\n",
            "\"Argumentation Mining: State of the Art and Emerging Trends\"\n",
            "doi\n",
            "10.1145/2850417\n",
            "hdl\n",
            "11585/523460\n",
            "ISSN\n",
            "1533-5399\n",
            "S2CID\n",
            "9561587\n",
            "^\n",
            "\"Argument Mining - IJCAI2016 Tutorial\"\n",
            "^\n",
            "\"NLP Approaches to Computational Argumentation – ACL 2016, Berlin\"\n",
            "^\n",
            "\"U B U W E B :: Racter\"\n",
            "^\n",
            "doi\n",
            "10.1007/978-3-030-16800-1\n",
            "ISBN\n",
            "978-3-030-16799-8\n",
            "S2CID\n",
            "155818532\n",
            "^\n",
            "\"Document Understanding AI on Google Cloud (Cloud Next '19) - YouTube\"\n",
            "the original\n",
            "^\n",
            "\"Centre for Language Technology (CLT)\"\n",
            "^\n",
            "\"Shared Task: Grammatical Error Correction\"\n",
            "^\n",
            "\"Shared Task: Grammatical Error Correction\"\n",
            "^\n",
            "\"Formalizing Semantic of Natural Language through Conceptualization from Existence\"\n",
            "the original\n",
            "^\n",
            "\"OpenAI's DALL-E AI image generator can now edit pictures, too\"\n",
            "^\n",
            "\"The Stanford Natural Language Processing Group\"\n",
            "^\n",
            "\"WordsEye: an automatic text-to-scene conversion system\"\n",
            "doi\n",
            "10.1145/383259.383316\n",
            "ISBN\n",
            "978-1-58113-374-5\n",
            "^\n",
            "\"Previous shared tasks | CoNLL\"\n",
            "^\n",
            "\"Cognition\"\n",
            "Oxford University Press\n",
            "Dictionary.com\n",
            "^\n",
            "\"Ask the Cognitive Scientist\"\n",
            "^\n",
            "ISBN\n",
            "978-0-805-85352-0\n",
            "^\n",
            "ISBN\n",
            "978-0-465-05674-3\n",
            "^\n",
            "ISBN\n",
            "978-0-521-59541-4\n",
            "^\n",
            "\"Universal Conceptual Cognitive Annotation (UCCA)\"\n",
            "^\n",
            "Building an RRG computational grammar\n",
            "^\n",
            "\"Fluid Construction Grammar – A fully operational processing system for construction grammars\"\n",
            "^\n",
            "\"ACL Member Portal | The Association for Computational Linguistics Member Portal\"\n",
            "^\n",
            "\"Chunks and Rules\"\n",
            "^\n",
            "\"Grounded Compositional Semantics for Finding and Describing Images with Sentences\"\n",
            "doi\n",
            "10.1162/tacl_a_00177\n",
            "S2CID\n",
            "2317858\n",
            "edit\n",
            "\"Models of natural language understanding\"\n",
            "Bibcode\n",
            "1995PNAS...92.9977B\n",
            "doi\n",
            "10.1073/pnas.92.22.9977\n",
            "PMC\n",
            "40721\n",
            "PMID\n",
            "7479812\n",
            "ISBN\n",
            "978-0-596-51649-9\n",
            "ISBN\n",
            "978-0-13-187321-6\n",
            "ISBN\n",
            "978-1848218482\n",
            "ISBN\n",
            "978-1848219212\n",
            "ISBN\n",
            "978-0-521-86571-5\n",
            "Official html and pdf versions available without charge.\n",
            "ISBN\n",
            "978-0-262-13360-9\n",
            "ISBN\n",
            "978-0-387-19557-5\n",
            "edit\n",
            "None\n",
            "Natural language processing\n",
            "v\n",
            "t\n",
            "e\n",
            "Natural language processing\n",
            "AI-complete\n",
            "Bag-of-words\n",
            "n-gram\n",
            "Bigram\n",
            "Trigram\n",
            "Computational linguistics\n",
            "Natural-language understanding\n",
            "Stop words\n",
            "Text processing\n",
            "Text analysis\n",
            "Collocation extraction\n",
            "Concept mining\n",
            "Coreference resolution\n",
            "Deep linguistic processing\n",
            "Distant reading\n",
            "Information extraction\n",
            "Named-entity recognition\n",
            "Ontology learning\n",
            "Parsing\n",
            "Part-of-speech tagging\n",
            "Semantic role labeling\n",
            "Semantic similarity\n",
            "Sentiment analysis\n",
            "Terminology extraction\n",
            "Text mining\n",
            "Textual entailment\n",
            "Truecasing\n",
            "Word-sense disambiguation\n",
            "Word-sense induction\n",
            "Text segmentation\n",
            "Compound-term processing\n",
            "Lemmatisation\n",
            "Lexical analysis\n",
            "Text chunking\n",
            "Stemming\n",
            "Sentence segmentation\n",
            "Word segmentation\n",
            "Automatic summarization\n",
            "Multi-document summarization\n",
            "Sentence extraction\n",
            "Text simplification\n",
            "Machine translation\n",
            "Computer-assisted\n",
            "Example-based\n",
            "Rule-based\n",
            "Statistical\n",
            "Transfer-based\n",
            "Neural\n",
            "Distributional semantics\n",
            "BERT\n",
            "Document-term matrix\n",
            "Explicit semantic analysis\n",
            "fastText\n",
            "GloVe\n",
            "Latent semantic analysis\n",
            "Word embedding\n",
            "Word2vec\n",
            "Language resources\n",
            "Corpus linguistics\n",
            "Lexical resource\n",
            "Linguistic Linked Open Data\n",
            "Machine-readable dictionary\n",
            "Parallel text\n",
            "PropBank\n",
            "Semantic network\n",
            "Simple Knowledge Organization System\n",
            "Speech corpus\n",
            "Text corpus\n",
            "Thesaurus (information retrieval)\n",
            "Treebank\n",
            "Universal Dependencies\n",
            "BabelNet\n",
            "Bank of English\n",
            "DBpedia\n",
            "FrameNet\n",
            "Google Ngram Viewer\n",
            "ThoughtTreasure\n",
            "UBY\n",
            "WordNet\n",
            "None\n",
            "Speech recognition\n",
            "Speech segmentation\n",
            "Speech synthesis\n",
            "Natural language generation\n",
            "Optical character recognition\n",
            "Topic model\n",
            "Document classification\n",
            "Latent Dirichlet allocation\n",
            "Pachinko allocation\n",
            "None\n",
            "Automated essay scoring\n",
            "Concordancer\n",
            "Grammar checker\n",
            "Predictive text\n",
            "Spell checker\n",
            "Syntax guessing\n",
            "None\n",
            "Chatbot\n",
            "Interactive fiction\n",
            "Question answering\n",
            "Virtual assistant\n",
            "Voice user interface\n",
            "Natural Language Toolkit\n",
            "spaCy\n",
            "Portal\n",
            "None\n",
            "Language\n",
            "Authority control: National libraries\n",
            "None\n",
            "Israel\n",
            "United States\n",
            "Japan\n",
            "https://en.wikipedia.org/w/index.php?title=Natural_language_processing&oldid=1093868703\n",
            "Categories\n",
            "Natural language processing\n",
            "Artificial intelligence\n",
            "Computational fields of study\n",
            "Computational linguistics\n",
            "Speech recognition\n",
            "All accuracy disputes\n",
            "Accuracy disputes from December 2013\n",
            "CS1 maint: url-status\n",
            "CS1 maint: location\n",
            "Articles with short description\n",
            "Short description matches Wikidata\n",
            "Commons category link from Wikidata\n",
            "Articles with J9U identifiers\n",
            "Articles with LCCN identifiers\n",
            "Articles with NDL identifiers\n",
            "Talk\n",
            "Contributions\n",
            "Create account\n",
            "Log in\n",
            "Article\n",
            "Talk\n",
            "Read\n",
            "Edit\n",
            "View history\n",
            "None\n",
            "Main page\n",
            "Contents\n",
            "Current events\n",
            "Random article\n",
            "About Wikipedia\n",
            "Contact us\n",
            "Donate\n",
            "Help\n",
            "Learn to edit\n",
            "Community portal\n",
            "Recent changes\n",
            "Upload file\n",
            "What links here\n",
            "Related changes\n",
            "Upload file\n",
            "Special pages\n",
            "Permanent link\n",
            "Page information\n",
            "Cite this page\n",
            "Wikidata item\n",
            "Download as PDF\n",
            "Printable version\n",
            "Wikimedia Commons\n",
            "Wikiversity\n",
            "Afrikaans\n",
            "العربية\n",
            "Azərbaycanca\n",
            "বাংলা\n",
            "Bân-lâm-gú\n",
            "Беларуская\n",
            "Беларуская (тарашкевіца)\n",
            "Български\n",
            "Bosanski\n",
            "Català\n",
            "Čeština\n",
            "Dansk\n",
            "Deutsch\n",
            "Eesti\n",
            "Ελληνικά\n",
            "Español\n",
            "Euskara\n",
            "فارسی\n",
            "Français\n",
            "Galego\n",
            "한국어\n",
            "Հայերեն\n",
            "हिन्दी\n",
            "Hrvatski\n",
            "Bahasa Indonesia\n",
            "Íslenska\n",
            "Italiano\n",
            "עברית\n",
            "ಕನ್ನಡ\n",
            "ქართული\n",
            "Lietuvių\n",
            "Македонски\n",
            "मराठी\n",
            "مصرى\n",
            "Монгол\n",
            "မြန်မာဘာသာ\n",
            "日本語\n",
            "ଓଡ଼ିଆ\n",
            "Picard\n",
            "Piemontèis\n",
            "Polski\n",
            "Português\n",
            "Română\n",
            "Русский\n",
            "Simple English\n",
            "کوردی\n",
            "Српски / srpski\n",
            "Srpskohrvatski / српскохрватски\n",
            "Suomi\n",
            "தமிழ்\n",
            "ไทย\n",
            "Türkçe\n",
            "Українська\n",
            "Tiếng Việt\n",
            "粵語\n",
            "中文\n",
            "Edit links\n",
            "Creative Commons Attribution-ShareAlike License 3.0\n",
            "None\n",
            "Terms of Use\n",
            "Privacy Policy\n",
            "Wikimedia Foundation, Inc.\n",
            "Privacy policy\n",
            "About Wikipedia\n",
            "Disclaimers\n",
            "Contact Wikipedia\n",
            "Mobile view\n",
            "Developers\n",
            "Statistics\n",
            "Cookie statement\n",
            "None\n",
            "None\n"
          ]
        }
      ]
    },
    {
      "cell_type": "code",
      "source": [
        "for x in soup.find_all('p'): print(x.text)"
      ],
      "metadata": {
        "colab": {
          "base_uri": "https://localhost:8080/"
        },
        "id": "I5gGRnhPFBgo",
        "outputId": "a77d8fbc-d945-4dc0-faa4-8486ea1d9b10"
      },
      "execution_count": null,
      "outputs": [
        {
          "output_type": "stream",
          "name": "stdout",
          "text": [
            "Natural language processing (NLP) is a subfield of linguistics, computer science, and artificial intelligence concerned with the interactions between computers and human language, in particular how to program computers to process and analyze large amounts of natural language data.  The goal is a computer capable of \"understanding\" the contents of documents, including the contextual nuances of the language within them. The technology can then accurately extract information and insights contained in the documents as well as categorize and organize the documents themselves.\n",
            "\n",
            "Challenges in natural language processing frequently involve speech recognition, natural-language understanding, and natural-language generation.\n",
            "\n",
            "Natural language processing has its roots in the 1950s. Already in 1950, Alan Turing published an article titled \"Computing Machinery and Intelligence\" which proposed what is now called the Turing test as a criterion of intelligence, though at the time that was not articulated as a problem separate from artificial intelligence. The proposed test includes a task that involves the automated interpretation and generation of natural language.\n",
            "\n",
            "The premise of symbolic NLP is well-summarized by John Searle's Chinese room experiment: Given a collection of rules (e.g., a Chinese phrasebook, with questions and matching answers), the computer emulates natural language understanding (or other NLP tasks) by applying those rules to the data it confronts.\n",
            "\n",
            "Up to the 1980s, most natural language processing systems were based on complex sets of hand-written rules.  Starting in the late 1980s, however, there was a revolution in natural language processing with the introduction of machine learning algorithms for language processing.  This was due to both the steady increase in computational power (see Moore's law) and the gradual lessening of the dominance of Chomskyan theories of linguistics (e.g. transformational grammar), whose theoretical underpinnings discouraged the sort of corpus linguistics that underlies the machine-learning approach to language processing.[6]\n",
            "\n",
            "In the 2010s, representation learning and deep neural network-style machine learning methods became widespread in natural language processing. That popularity was due partly to a flurry of results showing that such techniques[7][8] can achieve state-of-the-art results in many natural language tasks, e.g., in language modeling[9] and parsing.[10][11] This is increasingly important in medicine and healthcare, where NLP helps analyze notes and text in electronic health records that would otherwise be inaccessible for study when seeking to improve care.[12]\n",
            "\n",
            "In the early days, many language-processing systems were designed by symbolic methods, i.e., the hand-coding of a set of rules, coupled with a dictionary lookup:[13][14] such as by writing grammars or devising heuristic rules for stemming.\n",
            "\n",
            "More recent systems based on machine-learning algorithms have many advantages over hand-produced rules: \n",
            "\n",
            "Despite the popularity of machine learning in NLP research, symbolic methods are still (2020) commonly used:\n",
            "\n",
            "Since the so-called \"statistical revolution\"[15][16] in the late 1980s and mid-1990s, much natural language processing research has relied heavily on machine learning. The machine-learning paradigm calls instead for using statistical inference to automatically learn such rules through the analysis of large corpora (the plural form of corpus, is a set of documents, possibly with human or computer annotations) of typical real-world examples.\n",
            "\n",
            "Many different classes of machine-learning algorithms have been applied to natural-language-processing tasks. These algorithms take as input a large set of \"features\" that are generated from the input data. Increasingly, however, research has focused on statistical models, which make soft, probabilistic decisions based on attaching real-valued weights to each input feature (complex-valued embeddings,[17] and neural networks in general have also been proposed, for e.g. speech[18]). Such models have the advantage that they can express the relative certainty of many different possible answers rather than only one, producing more reliable results when such a model is included as a component of a larger system.\n",
            "\n",
            "Some of the earliest-used machine learning algorithms, such as decision trees, produced systems of hard if-then rules similar to existing hand-written rules.  However, part-of-speech tagging introduced the use of hidden Markov models to natural language processing, and increasingly, research has focused on statistical models, which make soft, probabilistic decisions based on attaching real-valued weights to the features making up the input data. The cache language models upon which many speech recognition systems now rely are examples of such statistical models.  Such models are generally more robust when given unfamiliar input, especially input that contains errors (as is very common for real-world data), and produce more reliable results when integrated into a larger system comprising multiple subtasks.\n",
            "\n",
            "Since the neural turn, statistical methods in NLP research have been largely replaced by neural networks. However, they continue to be relevant for contexts in which statistical interpretability and transparency is required.\n",
            "\n",
            "A major drawback of statistical methods is that they require elaborate feature engineering. Since 2015,[19] the field has thus largely abandoned statistical methods and shifted to neural networks for machine learning. Popular techniques include the use of word embeddings to capture semantic properties of words, and an increase in end-to-end learning of a higher-level task (e.g., question answering) instead of relying on a pipeline of separate intermediate tasks (e.g., part-of-speech tagging and dependency parsing). In some areas, this shift has entailed substantial changes in how NLP systems are designed, such that deep neural network-based approaches may be viewed as a new paradigm distinct from statistical natural language processing. For instance, the term neural machine translation (NMT) emphasizes the fact that deep learning-based approaches to machine translation directly learn sequence-to-sequence transformations, obviating the need for intermediate steps such as word alignment and language modeling that was used in statistical machine translation (SMT).\n",
            "\n",
            "The following is a list of some of the most commonly researched tasks in natural language processing. Some of these tasks have direct real-world applications, while others more commonly serve as subtasks that are used to aid in solving larger tasks.\n",
            "\n",
            "Though natural language processing tasks are closely intertwined, they can be subdivided into categories for convenience. A coarse division is given below.\n",
            "\n",
            "Based on long-standing trends in the field, it is possible to extrapolate future directions of NLP. As of 2020, three trends among the topics of the long-standing series of CoNLL Shared Tasks can be observed:[38]\n",
            "\n",
            "Most higher-level NLP applications involve aspects that emulate intelligent behaviour and apparent comprehension of natural language. More broadly speaking, the technical operationalization of increasingly advanced aspects of cognitive behaviour represents one of the developmental trajectories of NLP (see trends among CoNLL shared tasks above).\n",
            "\n",
            "Cognition refers to \"the mental action or process of acquiring knowledge and understanding through thought, experience, and the senses.\"[39] Cognitive science is the interdisciplinary, scientific study of the mind and its processes.[40] Cognitive linguistics is an interdisciplinary branch of linguistics, combining knowledge and research from both psychology and linguistics.[41] Especially during the age of symbolic NLP, the area of computational linguistics maintained strong ties with cognitive studies.\n",
            "\n",
            "As an example, George Lakoff offers a methodology to build natural language processing (NLP) algorithms through the perspective of cognitive science, along with the findings of cognitive linguistics,[42] with two defining aspects:\n",
            "\n",
            "Ties with cognitive linguistics are part of the historical heritage of NLP, but they have been less frequently addressed since the statistical turn during the 1990s. Nevertheless, approaches to develop cognitive models towards technically operationalizable frameworks have been pursued in the context of various frameworks, e.g., of cognitive grammar,[44] functional grammar,[45] construction grammar,[46] computational psycholinguistics and cognitive neuroscience (e.g., ACT-R), however, with limited uptake in mainstream NLP (as measured by presence on major conferences[47] of the ACL). More recently, ideas of cognitive NLP have been revived as an approach to achieve explainability, e.g., under the notion of \"cognitive AI\".[48] Likewise, ideas of cognitive NLP are inherent to neural models multimodal NLP (although rarely made explicit).[49]\n",
            "\n"
          ]
        }
      ]
    },
    {
      "cell_type": "markdown",
      "source": [
        "#1-6. Parsing Text Using Regular Expressions"
      ],
      "metadata": {
        "id": "QdiC6uB2FH0d"
      }
    },
    {
      "cell_type": "code",
      "source": [
        "import re\n",
        "#run the split query\n",
        "re.split('\\s+','I like this book.')"
      ],
      "metadata": {
        "colab": {
          "base_uri": "https://localhost:8080/"
        },
        "id": "cJ9Ece7QFLu-",
        "outputId": "f05d4d60-880b-4153-b1c7-eece44f149a4"
      },
      "execution_count": null,
      "outputs": [
        {
          "output_type": "execute_result",
          "data": {
            "text/plain": [
              "['I', 'like', 'this', 'book.']"
            ]
          },
          "metadata": {},
          "execution_count": 58
        }
      ]
    },
    {
      "cell_type": "code",
      "source": [
        "doc = \"For more details please mail us at: xyz@abc.com,pqr@mno.com\""
      ],
      "metadata": {
        "id": "pB9cES0bFX2N"
      },
      "execution_count": null,
      "outputs": []
    },
    {
      "cell_type": "code",
      "source": [
        "addresses = re.findall(r'[\\w\\.-]+@[\\w\\.-]+', doc)\n",
        "for address in addresses:\n",
        "    print(address)"
      ],
      "metadata": {
        "colab": {
          "base_uri": "https://localhost:8080/"
        },
        "id": "g0r0zCcbFbrG",
        "outputId": "82906f7f-a379-447d-8e86-757250c55b52"
      },
      "execution_count": null,
      "outputs": [
        {
          "output_type": "stream",
          "name": "stdout",
          "text": [
            "xyz@abc.com\n",
            "pqr@mno.com\n"
          ]
        }
      ]
    },
    {
      "cell_type": "code",
      "source": [
        "doc = \"For more details please mail us at xyz@abc.com\""
      ],
      "metadata": {
        "id": "mQ5Kl542Fevq"
      },
      "execution_count": null,
      "outputs": []
    },
    {
      "cell_type": "code",
      "source": [
        "new_email_address = re.sub(r'([\\w\\.-]+)@([\\w\\.-]+)',\n",
        "r'pqr@mno.com', doc)\n",
        "print(new_email_address)"
      ],
      "metadata": {
        "colab": {
          "base_uri": "https://localhost:8080/"
        },
        "id": "5_ZAuD2LFhue",
        "outputId": "942db92d-9d52-4e83-d97b-e19784565d7b"
      },
      "execution_count": null,
      "outputs": [
        {
          "output_type": "stream",
          "name": "stdout",
          "text": [
            "For more details please mail us at pqr@mno.com\n"
          ]
        }
      ]
    },
    {
      "cell_type": "code",
      "source": [
        "import re\n",
        "import requests\n",
        "#url you want to extract\n",
        "url = 'https://www.gutenberg.org/files/2638/2638-0.txt'\n",
        "#function to extract\n",
        "def get_book(url):\n",
        "# Sends a http request to get the text from project Gutenberg\n",
        "  raw = requests.get(url).text\n",
        "# Discards the metadata from the beginning of the book\n",
        "  start = re.search(r\"\\*\\*\\* START OF THIS PROJECT GUTENBERG EBOOK .* \\*\\*\\*\",raw ).end()\n",
        "# Discards the metadata from the end of the book\n",
        "  stop = re.search(r\"II\", raw).start()\n",
        "# Keeps the relevant text\n",
        "  text = raw[start:stop]\n",
        "  return text\n",
        "# processing\n",
        "def preprocess(sentence):\n",
        "  return re.sub('[^A-Za-z0-9.]+' , ' ', sentence).lower()\n",
        "#calling the above function\n",
        "book = get_book(url)\n",
        "processed_book = preprocess(book)\n",
        "print(processed_book)"
      ],
      "metadata": {
        "colab": {
          "base_uri": "https://localhost:8080/",
          "height": 359
        },
        "id": "TTiSxQmsFuyL",
        "outputId": "a0c2e841-ae83-4ebf-95c6-f72ee2c49c1a"
      },
      "execution_count": null,
      "outputs": [
        {
          "output_type": "error",
          "ename": "AttributeError",
          "evalue": "ignored",
          "traceback": [
            "\u001b[0;31m---------------------------------------------------------------------------\u001b[0m",
            "\u001b[0;31mAttributeError\u001b[0m                            Traceback (most recent call last)",
            "\u001b[0;32m<ipython-input-64-a4683e5cf606>\u001b[0m in \u001b[0;36m<module>\u001b[0;34m()\u001b[0m\n\u001b[1;32m     18\u001b[0m   \u001b[0;32mreturn\u001b[0m \u001b[0mre\u001b[0m\u001b[0;34m.\u001b[0m\u001b[0msub\u001b[0m\u001b[0;34m(\u001b[0m\u001b[0;34m'[^A-Za-z0-9.]+'\u001b[0m \u001b[0;34m,\u001b[0m \u001b[0;34m' '\u001b[0m\u001b[0;34m,\u001b[0m \u001b[0msentence\u001b[0m\u001b[0;34m)\u001b[0m\u001b[0;34m.\u001b[0m\u001b[0mlower\u001b[0m\u001b[0;34m(\u001b[0m\u001b[0;34m)\u001b[0m\u001b[0;34m\u001b[0m\u001b[0;34m\u001b[0m\u001b[0m\n\u001b[1;32m     19\u001b[0m \u001b[0;31m#calling the above function\u001b[0m\u001b[0;34m\u001b[0m\u001b[0;34m\u001b[0m\u001b[0;34m\u001b[0m\u001b[0m\n\u001b[0;32m---> 20\u001b[0;31m \u001b[0mbook\u001b[0m \u001b[0;34m=\u001b[0m \u001b[0mget_book\u001b[0m\u001b[0;34m(\u001b[0m\u001b[0murl\u001b[0m\u001b[0;34m)\u001b[0m\u001b[0;34m\u001b[0m\u001b[0;34m\u001b[0m\u001b[0m\n\u001b[0m\u001b[1;32m     21\u001b[0m \u001b[0mprocessed_book\u001b[0m \u001b[0;34m=\u001b[0m \u001b[0mpreprocess\u001b[0m\u001b[0;34m(\u001b[0m\u001b[0mbook\u001b[0m\u001b[0;34m)\u001b[0m\u001b[0;34m\u001b[0m\u001b[0;34m\u001b[0m\u001b[0m\n\u001b[1;32m     22\u001b[0m \u001b[0mprint\u001b[0m\u001b[0;34m(\u001b[0m\u001b[0mprocessed_book\u001b[0m\u001b[0;34m)\u001b[0m\u001b[0;34m\u001b[0m\u001b[0;34m\u001b[0m\u001b[0m\n",
            "\u001b[0;32m<ipython-input-64-a4683e5cf606>\u001b[0m in \u001b[0;36mget_book\u001b[0;34m(url)\u001b[0m\n\u001b[1;32m      8\u001b[0m   \u001b[0mraw\u001b[0m \u001b[0;34m=\u001b[0m \u001b[0mrequests\u001b[0m\u001b[0;34m.\u001b[0m\u001b[0mget\u001b[0m\u001b[0;34m(\u001b[0m\u001b[0murl\u001b[0m\u001b[0;34m)\u001b[0m\u001b[0;34m.\u001b[0m\u001b[0mtext\u001b[0m\u001b[0;34m\u001b[0m\u001b[0;34m\u001b[0m\u001b[0m\n\u001b[1;32m      9\u001b[0m \u001b[0;31m# Discards the metadata from the beginning of the book\u001b[0m\u001b[0;34m\u001b[0m\u001b[0;34m\u001b[0m\u001b[0;34m\u001b[0m\u001b[0m\n\u001b[0;32m---> 10\u001b[0;31m   \u001b[0mstart\u001b[0m \u001b[0;34m=\u001b[0m \u001b[0mre\u001b[0m\u001b[0;34m.\u001b[0m\u001b[0msearch\u001b[0m\u001b[0;34m(\u001b[0m\u001b[0;34mr\"\\*\\*\\* START OF THIS PROJECT GUTENBERG EBOOK .* \\*\\*\\*\"\u001b[0m\u001b[0;34m,\u001b[0m\u001b[0mraw\u001b[0m \u001b[0;34m)\u001b[0m\u001b[0;34m.\u001b[0m\u001b[0mend\u001b[0m\u001b[0;34m(\u001b[0m\u001b[0;34m)\u001b[0m\u001b[0;34m\u001b[0m\u001b[0;34m\u001b[0m\u001b[0m\n\u001b[0m\u001b[1;32m     11\u001b[0m \u001b[0;31m# Discards the metadata from the end of the book\u001b[0m\u001b[0;34m\u001b[0m\u001b[0;34m\u001b[0m\u001b[0;34m\u001b[0m\u001b[0m\n\u001b[1;32m     12\u001b[0m   \u001b[0mstop\u001b[0m \u001b[0;34m=\u001b[0m \u001b[0mre\u001b[0m\u001b[0;34m.\u001b[0m\u001b[0msearch\u001b[0m\u001b[0;34m(\u001b[0m\u001b[0;34mr\"II\"\u001b[0m\u001b[0;34m,\u001b[0m \u001b[0mraw\u001b[0m\u001b[0;34m)\u001b[0m\u001b[0;34m.\u001b[0m\u001b[0mstart\u001b[0m\u001b[0;34m(\u001b[0m\u001b[0;34m)\u001b[0m\u001b[0;34m\u001b[0m\u001b[0;34m\u001b[0m\u001b[0m\n",
            "\u001b[0;31mAttributeError\u001b[0m: 'NoneType' object has no attribute 'end'"
          ]
        }
      ]
    }
  ]
}